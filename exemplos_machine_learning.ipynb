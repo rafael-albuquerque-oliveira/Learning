{
  "nbformat": 4,
  "nbformat_minor": 0,
  "metadata": {
    "colab": {
      "name": "exemplos_machine_learning.ipynb",
      "provenance": [],
      "collapsed_sections": [],
      "mount_file_id": "1TUc1o3qP-5L2BmSY11Lgy2NQpfMi6BE1",
      "authorship_tag": "ABX9TyM3ZaKKdzL9o1nLfL7uY+oJ",
      "include_colab_link": true
    },
    "kernelspec": {
      "name": "python3",
      "display_name": "Python 3"
    }
  },
  "cells": [
    {
      "cell_type": "markdown",
      "metadata": {
        "id": "view-in-github",
        "colab_type": "text"
      },
      "source": [
        "<a href=\"https://colab.research.google.com/github/rafael-albuquerque-oliveira/Learning/blob/main/exemplos_machine_learning.ipynb\" target=\"_parent\"><img src=\"https://colab.research.google.com/assets/colab-badge.svg\" alt=\"Open In Colab\"/></a>"
      ]
    },
    {
      "cell_type": "markdown",
      "metadata": {
        "id": "lC0IgCk9TaLi"
      },
      "source": [
        "#**Scikit-Learn Practice Exercises**\r\n",
        "This notebook offers a set of excercises for different tasks with Scikit-Learn.\r\n",
        "\r\n",
        "There may be more than one different way to answer a question or complete an exercise."
      ]
    },
    {
      "cell_type": "code",
      "metadata": {
        "id": "c4RYE972Tj1O"
      },
      "source": [
        "# Import the pyplot module of Matplotlib as plt\r\n",
        "import matplotlib.pyplot as plt\r\n",
        "\r\n",
        "# Import pandas under the abbreviation 'pd'\r\n",
        "import pandas as pd\r\n",
        "\r\n",
        "# Import NumPy under the abbreviation 'np'\r\n",
        "import numpy as np"
      ],
      "execution_count": null,
      "outputs": []
    },
    {
      "cell_type": "markdown",
      "metadata": {
        "id": "mK7lyxPfT9k9"
      },
      "source": [
        "##**End-to-end Scikit-Learn classification workflow**\r\n",
        "Let's start with an end to end Scikit-Learn workflow.\r\n",
        "\r\n",
        "More specifically, we'll:\r\n",
        "\r\n",
        "* Get a dataset ready\r\n",
        "* Prepare a machine learning model to make predictions\r\n",
        "* Fit the model to the data and make a prediction\r\n",
        "* Evaluate the model's predictions\r\n",
        "\r\n",
        ">The data we'll be using is stored on a folder on Google Drive. We'll start with heart-disease.csv, a dataset which contains anonymous patient data and whether or not they have heart disease."
      ]
    },
    {
      "cell_type": "markdown",
      "metadata": {
        "id": "4eTeKeKzUIyW"
      },
      "source": [
        "### 1. Getting the dataset ready"
      ]
    },
    {
      "cell_type": "code",
      "metadata": {
        "colab": {
          "base_uri": "https://localhost:8080/",
          "height": 204
        },
        "id": "wu5xuuSoUWwZ",
        "outputId": "405cce06-045e-4154-8b31-3a76096d8687"
      },
      "source": [
        "# Import the heart disease dataset and save it to a variable\r\n",
        "# using pandas and read_csv()\r\n",
        "# Hint: You can directly pass the URL of a csv to read_csv()\r\n",
        "heart_disease = pd.read_csv(\"/content/drive/MyDrive/Curso Machine Learning e Data Science/Dados/heart-disease.csv\")\r\n",
        "\r\n",
        "# Check the first 5 rows of the data\r\n",
        "heart_disease.head()"
      ],
      "execution_count": null,
      "outputs": [
        {
          "output_type": "execute_result",
          "data": {
            "text/html": [
              "<div>\n",
              "<style scoped>\n",
              "    .dataframe tbody tr th:only-of-type {\n",
              "        vertical-align: middle;\n",
              "    }\n",
              "\n",
              "    .dataframe tbody tr th {\n",
              "        vertical-align: top;\n",
              "    }\n",
              "\n",
              "    .dataframe thead th {\n",
              "        text-align: right;\n",
              "    }\n",
              "</style>\n",
              "<table border=\"1\" class=\"dataframe\">\n",
              "  <thead>\n",
              "    <tr style=\"text-align: right;\">\n",
              "      <th></th>\n",
              "      <th>age</th>\n",
              "      <th>sex</th>\n",
              "      <th>cp</th>\n",
              "      <th>trestbps</th>\n",
              "      <th>chol</th>\n",
              "      <th>fbs</th>\n",
              "      <th>restecg</th>\n",
              "      <th>thalach</th>\n",
              "      <th>exang</th>\n",
              "      <th>oldpeak</th>\n",
              "      <th>slope</th>\n",
              "      <th>ca</th>\n",
              "      <th>thal</th>\n",
              "      <th>target</th>\n",
              "    </tr>\n",
              "  </thead>\n",
              "  <tbody>\n",
              "    <tr>\n",
              "      <th>0</th>\n",
              "      <td>63</td>\n",
              "      <td>1</td>\n",
              "      <td>3</td>\n",
              "      <td>145</td>\n",
              "      <td>233</td>\n",
              "      <td>1</td>\n",
              "      <td>0</td>\n",
              "      <td>150</td>\n",
              "      <td>0</td>\n",
              "      <td>2.3</td>\n",
              "      <td>0</td>\n",
              "      <td>0</td>\n",
              "      <td>1</td>\n",
              "      <td>1</td>\n",
              "    </tr>\n",
              "    <tr>\n",
              "      <th>1</th>\n",
              "      <td>37</td>\n",
              "      <td>1</td>\n",
              "      <td>2</td>\n",
              "      <td>130</td>\n",
              "      <td>250</td>\n",
              "      <td>0</td>\n",
              "      <td>1</td>\n",
              "      <td>187</td>\n",
              "      <td>0</td>\n",
              "      <td>3.5</td>\n",
              "      <td>0</td>\n",
              "      <td>0</td>\n",
              "      <td>2</td>\n",
              "      <td>1</td>\n",
              "    </tr>\n",
              "    <tr>\n",
              "      <th>2</th>\n",
              "      <td>41</td>\n",
              "      <td>0</td>\n",
              "      <td>1</td>\n",
              "      <td>130</td>\n",
              "      <td>204</td>\n",
              "      <td>0</td>\n",
              "      <td>0</td>\n",
              "      <td>172</td>\n",
              "      <td>0</td>\n",
              "      <td>1.4</td>\n",
              "      <td>2</td>\n",
              "      <td>0</td>\n",
              "      <td>2</td>\n",
              "      <td>1</td>\n",
              "    </tr>\n",
              "    <tr>\n",
              "      <th>3</th>\n",
              "      <td>56</td>\n",
              "      <td>1</td>\n",
              "      <td>1</td>\n",
              "      <td>120</td>\n",
              "      <td>236</td>\n",
              "      <td>0</td>\n",
              "      <td>1</td>\n",
              "      <td>178</td>\n",
              "      <td>0</td>\n",
              "      <td>0.8</td>\n",
              "      <td>2</td>\n",
              "      <td>0</td>\n",
              "      <td>2</td>\n",
              "      <td>1</td>\n",
              "    </tr>\n",
              "    <tr>\n",
              "      <th>4</th>\n",
              "      <td>57</td>\n",
              "      <td>0</td>\n",
              "      <td>0</td>\n",
              "      <td>120</td>\n",
              "      <td>354</td>\n",
              "      <td>0</td>\n",
              "      <td>1</td>\n",
              "      <td>163</td>\n",
              "      <td>1</td>\n",
              "      <td>0.6</td>\n",
              "      <td>2</td>\n",
              "      <td>0</td>\n",
              "      <td>2</td>\n",
              "      <td>1</td>\n",
              "    </tr>\n",
              "  </tbody>\n",
              "</table>\n",
              "</div>"
            ],
            "text/plain": [
              "   age  sex  cp  trestbps  chol  fbs  ...  exang  oldpeak  slope  ca  thal  target\n",
              "0   63    1   3       145   233    1  ...      0      2.3      0   0     1       1\n",
              "1   37    1   2       130   250    0  ...      0      3.5      0   0     2       1\n",
              "2   41    0   1       130   204    0  ...      0      1.4      2   0     2       1\n",
              "3   56    1   1       120   236    0  ...      0      0.8      2   0     2       1\n",
              "4   57    0   0       120   354    0  ...      1      0.6      2   0     2       1\n",
              "\n",
              "[5 rows x 14 columns]"
            ]
          },
          "metadata": {
            "tags": []
          },
          "execution_count": 2
        }
      ]
    },
    {
      "cell_type": "markdown",
      "metadata": {
        "id": "vzJ4_L4uUo5l"
      },
      "source": [
        "\r\n",
        "Our goal here is to build a machine learning model on all of the columns except target to predict target.\r\n",
        "\r\n",
        "In essence, the target column is our target variable (also called y or labels) and the rest of the other columns are our independent variables (also called data or X).\r\n",
        "\r\n",
        "And since our target variable is one thing or another (heart disease or not), we know our problem is a classification problem (classifying whether something is one thing or another).\r\n",
        "\r\n",
        "Knowing this, let's create X and y by splitting our dataframe up."
      ]
    },
    {
      "cell_type": "code",
      "metadata": {
        "id": "bYxD0Rd8WEId"
      },
      "source": [
        "# Create X (all columns except target)\r\n",
        "X = heart_disease.drop(\"target\", axis=1)\r\n",
        "\r\n",
        "# Create y (only the target column)\r\n",
        "y = heart_disease[\"target\"]"
      ],
      "execution_count": null,
      "outputs": []
    },
    {
      "cell_type": "markdown",
      "metadata": {
        "id": "LAaXGV_iWLNM"
      },
      "source": [
        "Now we've split our data into X and y, we'll use Scikit-Learn to split it into training and test sets."
      ]
    },
    {
      "cell_type": "code",
      "metadata": {
        "id": "8S2C2jHjWRgE"
      },
      "source": [
        "# Import train_test_split from sklearn's model_selection module\r\n",
        "from sklearn.model_selection import train_test_split\r\n",
        "\r\n",
        "# Use train_test_split to split X & y into training and test sets\r\n",
        "X_train, X_test, y_train, y_test = train_test_split(X, y, test_size = 0.2)"
      ],
      "execution_count": null,
      "outputs": []
    },
    {
      "cell_type": "code",
      "metadata": {
        "colab": {
          "base_uri": "https://localhost:8080/"
        },
        "id": "qXAaBvPeWWuj",
        "outputId": "36aaedb6-ede6-458b-a3d3-bd4f633898a1"
      },
      "source": [
        "# View the different shapes of the training and test datasets\r\n",
        "X_train.shape, X_test.shape, y_train.shape, y_test.shape"
      ],
      "execution_count": null,
      "outputs": [
        {
          "output_type": "execute_result",
          "data": {
            "text/plain": [
              "((242, 13), (61, 13), (242,), (61,))"
            ]
          },
          "metadata": {
            "tags": []
          },
          "execution_count": 12
        }
      ]
    },
    {
      "cell_type": "markdown",
      "metadata": {
        "id": "rJ4ppgWkWa0H"
      },
      "source": [
        "### 2. Preparing a machine learning model"
      ]
    },
    {
      "cell_type": "code",
      "metadata": {
        "id": "pjhiPhrBW7DQ"
      },
      "source": [
        "# Import the RandomForestClassifier from sklearn's ensemble module\r\n",
        "from sklearn.ensemble import RandomForestClassifier\r\n",
        "\r\n",
        "# Instantiate an instance of RandomForestClassifier as clf\r\n",
        "clf = RandomForestClassifier()"
      ],
      "execution_count": null,
      "outputs": []
    },
    {
      "cell_type": "markdown",
      "metadata": {
        "id": "D7CK7tMLW-Qc"
      },
      "source": [
        "### 3. Fitting a model and making predictions"
      ]
    },
    {
      "cell_type": "code",
      "metadata": {
        "colab": {
          "base_uri": "https://localhost:8080/"
        },
        "id": "-JA6njCnXD8Y",
        "outputId": "39fcea38-7fae-408e-f126-af65083f38ca"
      },
      "source": [
        "# Fit the RandomForestClassifier to the training data\r\n",
        "clf.fit(X_train, y_train)"
      ],
      "execution_count": null,
      "outputs": [
        {
          "output_type": "execute_result",
          "data": {
            "text/plain": [
              "RandomForestClassifier(bootstrap=True, ccp_alpha=0.0, class_weight=None,\n",
              "                       criterion='gini', max_depth=None, max_features='auto',\n",
              "                       max_leaf_nodes=None, max_samples=None,\n",
              "                       min_impurity_decrease=0.0, min_impurity_split=None,\n",
              "                       min_samples_leaf=1, min_samples_split=2,\n",
              "                       min_weight_fraction_leaf=0.0, n_estimators=100,\n",
              "                       n_jobs=None, oob_score=False, random_state=None,\n",
              "                       verbose=0, warm_start=False)"
            ]
          },
          "metadata": {
            "tags": []
          },
          "execution_count": 14
        }
      ]
    },
    {
      "cell_type": "code",
      "metadata": {
        "id": "EVqsCWe_XGV8"
      },
      "source": [
        "# Use the fitted model to make predictions on the test data and\r\n",
        "# save the predictions to a variable called y_preds\r\n",
        "y_preds = clf.predict(X_test)"
      ],
      "execution_count": null,
      "outputs": []
    },
    {
      "cell_type": "markdown",
      "metadata": {
        "id": "2wOqwDKZXv0r"
      },
      "source": [
        "### 4. Evaluating a model's prediction"
      ]
    },
    {
      "cell_type": "code",
      "metadata": {
        "colab": {
          "base_uri": "https://localhost:8080/"
        },
        "id": "rfKqWGSDX1St",
        "outputId": "d2881cb7-ba02-4e6b-c28f-da0947f0eb78"
      },
      "source": [
        "# Evaluate the fitted model on the training set using the score() function\r\n",
        "clf.score(X_train, y_train)"
      ],
      "execution_count": null,
      "outputs": [
        {
          "output_type": "execute_result",
          "data": {
            "text/plain": [
              "1.0"
            ]
          },
          "metadata": {
            "tags": []
          },
          "execution_count": 17
        }
      ]
    },
    {
      "cell_type": "code",
      "metadata": {
        "colab": {
          "base_uri": "https://localhost:8080/"
        },
        "id": "xfkh7l2qX4Ll",
        "outputId": "2469696d-ac9f-4002-e926-3378a28f1803"
      },
      "source": [
        "# Evaluate the fitted model on the test set using the score() function\r\n",
        "clf.score(X_test, y_test)"
      ],
      "execution_count": null,
      "outputs": [
        {
          "output_type": "execute_result",
          "data": {
            "text/plain": [
              "0.8032786885245902"
            ]
          },
          "metadata": {
            "tags": []
          },
          "execution_count": 18
        }
      ]
    },
    {
      "cell_type": "markdown",
      "metadata": {
        "id": "Zq9IabohX7Qd"
      },
      "source": [
        "###**Experimenting with different classification models**\r\n",
        "Now we've quickly covered an end-to-end Scikit-Learn workflow and since experimenting is a large part of machine learning, we'll now try a series of different machine learning models and see which gets the best results on our dataset.\r\n",
        "\r\n",
        "Going through the Scikit-Learn machine learning map, we see there are a number of different classification models we can try (different models are in the green boxes).\r\n",
        "\r\n",
        "For this exercise, the models we're going to try and compare are:\r\n",
        "\r\n",
        "* LinearSVC\r\n",
        "* KNeighborsClassifier (also known as K-Nearest Neighbors or KNN)\r\n",
        "* SVC (also known as support vector classifier, a form of support vector machine)\r\n",
        "* LogisticRegression (despite the name, this is actually a classifier)\r\n",
        "* RandomForestClassifier (an ensemble method and what we used above)\r\n",
        "We'll follow the same workflow we used above (except this time for multiple models):\r\n",
        "\r\n",
        "1. Import a machine learning model\r\n",
        "2. Get it ready\r\n",
        "3. Fit it to the data and make predictions\r\n",
        "4. Evaluate the fitted model"
      ]
    },
    {
      "cell_type": "code",
      "metadata": {
        "id": "VuTpr9MRYRxY"
      },
      "source": [
        "# Import LinearSVC from sklearn's svm module\r\n",
        "from sklearn.svm import LinearSVC\r\n",
        "\r\n",
        "# Import KNeighborsClassifier from sklearn's neighbors module\r\n",
        "from sklearn.neighbors import KNeighborsClassifier\r\n",
        "\r\n",
        "# Import SVC from sklearn's svm module\r\n",
        "from sklearn.svm import SVC\r\n",
        "\r\n",
        "# Import LogisticRegression from sklearn's linear_model module\r\n",
        "from sklearn.linear_model import LogisticRegression\r\n",
        "\r\n",
        "# Note: we don't have to import RandomForestClassifier, since we already have"
      ],
      "execution_count": null,
      "outputs": []
    },
    {
      "cell_type": "markdown",
      "metadata": {
        "id": "SS6Tl7-GYV2-"
      },
      "source": [
        "Thanks to the consistency of Scikit-Learn's API design, we can use virtually the same code to fit, score and make predictions with each of our models.\r\n",
        "\r\n",
        "To see which model performs best, we'll do the following:\r\n",
        "\r\n",
        "1. Instantiate each model in a dictionary\r\n",
        "2. Create an empty results dictionary\r\n",
        "3. Fit each model on the training data\r\n",
        "4. Score each model on the test data\r\n",
        "5. Check the results"
      ]
    },
    {
      "cell_type": "code",
      "metadata": {
        "id": "k3VdZMb7YgJS"
      },
      "source": [
        "# Create a dictionary called models which contains all of the classification models we've imported\r\n",
        "# Make sure the dictionary is in the same format as example_dict\r\n",
        "# The models dictionary should contain 5 models\r\n",
        "models = {\"LinearSVC\": LinearSVC(),\r\n",
        "          \"KNN\": KNeighborsClassifier(),\r\n",
        "          \"SVC\": SVC(),\r\n",
        "          \"LogisticRegression\": LogisticRegression(),\r\n",
        "          \"RandomForestClassifier\": RandomForestClassifier()}\r\n",
        "\r\n",
        "# Create an empty dictionary called results\r\n",
        "results = {}"
      ],
      "execution_count": null,
      "outputs": []
    },
    {
      "cell_type": "markdown",
      "metadata": {
        "id": "XB4zIaz5YnsM"
      },
      "source": [
        "Since each model we're using has the same fit() and score() functions, we can loop through our models dictionary and, call fit() on the training data and then call score() with the test data."
      ]
    },
    {
      "cell_type": "code",
      "metadata": {
        "colab": {
          "base_uri": "https://localhost:8080/"
        },
        "id": "l72iPu0BYvsN",
        "outputId": "d581e72f-feb1-4f94-9e02-e82fdb447c88"
      },
      "source": [
        "# Loop through the models dictionary items, fitting the model on the training data\r\n",
        "# and appending the model name and model score on the test data to the results dictionary\r\n",
        "for model_name, model in models.items():\r\n",
        "    model.fit(X_train, y_train)\r\n",
        "    results[model_name] = model.score(X_test, y_test)\r\n",
        "    \r\n",
        "results"
      ],
      "execution_count": null,
      "outputs": [
        {
          "output_type": "stream",
          "text": [
            "/usr/local/lib/python3.6/dist-packages/sklearn/svm/_base.py:947: ConvergenceWarning: Liblinear failed to converge, increase the number of iterations.\n",
            "  \"the number of iterations.\", ConvergenceWarning)\n",
            "/usr/local/lib/python3.6/dist-packages/sklearn/linear_model/_logistic.py:940: ConvergenceWarning: lbfgs failed to converge (status=1):\n",
            "STOP: TOTAL NO. of ITERATIONS REACHED LIMIT.\n",
            "\n",
            "Increase the number of iterations (max_iter) or scale the data as shown in:\n",
            "    https://scikit-learn.org/stable/modules/preprocessing.html\n",
            "Please also refer to the documentation for alternative solver options:\n",
            "    https://scikit-learn.org/stable/modules/linear_model.html#logistic-regression\n",
            "  extra_warning_msg=_LOGISTIC_SOLVER_CONVERGENCE_MSG)\n"
          ],
          "name": "stderr"
        },
        {
          "output_type": "execute_result",
          "data": {
            "text/plain": [
              "{'KNN': 0.5245901639344263,\n",
              " 'LinearSVC': 0.7213114754098361,\n",
              " 'LogisticRegression': 0.8032786885245902,\n",
              " 'RandomForestClassifier': 0.8360655737704918,\n",
              " 'SVC': 0.5737704918032787}"
            ]
          },
          "metadata": {
            "tags": []
          },
          "execution_count": 22
        }
      ]
    },
    {
      "cell_type": "markdown",
      "metadata": {
        "id": "UmaTUv8nY193"
      },
      "source": [
        "Due to the randomness of how each model finds patterns in the data, you might notice different results each time.\r\n",
        "\r\n",
        "Without manually setting the random state using the random_state parameter of some models or using a NumPy random seed, every time you run the cell, you'll get slightly different results.\r\n",
        "\r\n",
        "Let's see this in effect by running the same code as the cell above, except this time setting a NumPy random seed equal to 42."
      ]
    },
    {
      "cell_type": "code",
      "metadata": {
        "colab": {
          "base_uri": "https://localhost:8080/"
        },
        "id": "WvsWE8dgZDOz",
        "outputId": "50a2dd14-37e7-475c-f401-c30743ab7299"
      },
      "source": [
        "# Run the same code as the cell above, except this time set a NumPy random seed\r\n",
        "# equal to 42\r\n",
        "np.random.seed(42)\r\n",
        "\r\n",
        "for model_name, model in models.items():\r\n",
        "    model.fit(X_train, y_train)\r\n",
        "    results[model_name] = model.score(X_test, y_test)\r\n",
        "    \r\n",
        "results"
      ],
      "execution_count": null,
      "outputs": [
        {
          "output_type": "stream",
          "text": [
            "/usr/local/lib/python3.6/dist-packages/sklearn/svm/_base.py:947: ConvergenceWarning: Liblinear failed to converge, increase the number of iterations.\n",
            "  \"the number of iterations.\", ConvergenceWarning)\n",
            "/usr/local/lib/python3.6/dist-packages/sklearn/linear_model/_logistic.py:940: ConvergenceWarning: lbfgs failed to converge (status=1):\n",
            "STOP: TOTAL NO. of ITERATIONS REACHED LIMIT.\n",
            "\n",
            "Increase the number of iterations (max_iter) or scale the data as shown in:\n",
            "    https://scikit-learn.org/stable/modules/preprocessing.html\n",
            "Please also refer to the documentation for alternative solver options:\n",
            "    https://scikit-learn.org/stable/modules/linear_model.html#logistic-regression\n",
            "  extra_warning_msg=_LOGISTIC_SOLVER_CONVERGENCE_MSG)\n"
          ],
          "name": "stderr"
        },
        {
          "output_type": "execute_result",
          "data": {
            "text/plain": [
              "{'KNN': 0.5245901639344263,\n",
              " 'LinearSVC': 0.6065573770491803,\n",
              " 'LogisticRegression': 0.8032786885245902,\n",
              " 'RandomForestClassifier': 0.8032786885245902,\n",
              " 'SVC': 0.5737704918032787}"
            ]
          },
          "metadata": {
            "tags": []
          },
          "execution_count": 24
        }
      ]
    },
    {
      "cell_type": "markdown",
      "metadata": {
        "id": "kaeyKPD3ZGcR"
      },
      "source": [
        "Let's make our results a little more visual."
      ]
    },
    {
      "cell_type": "code",
      "metadata": {
        "colab": {
          "base_uri": "https://localhost:8080/",
          "height": 373
        },
        "id": "nZDnRbhKZPEX",
        "outputId": "05c06f63-1e86-49e0-aa47-46578b74ff22"
      },
      "source": [
        "# Create a pandas dataframe with the data as the values of the results dictionary,\r\n",
        "# the index as the keys of the results dictionary and a single column called accuracy.\r\n",
        "# Be sure to save the dataframe to a variable.\r\n",
        "results_df = pd.DataFrame(results.values(), \r\n",
        "                          results.keys(), \r\n",
        "                          columns=[\"Accuracy\"])\r\n",
        "\r\n",
        "# Create a bar plot of the results dataframe using plot.bar()\r\n",
        "results_df.plot.bar();"
      ],
      "execution_count": null,
      "outputs": [
        {
          "output_type": "display_data",
          "data": {
            "image/png": "[encoded data removed]",
            "text/plain": [
              "<Figure size 432x288 with 1 Axes>"
            ]
          },
          "metadata": {
            "tags": [],
            "needs_background": "light"
          }
        }
      ]
    },
    {
      "cell_type": "markdown",
      "metadata": {
        "id": "W_NsUzrrZQ0c"
      },
      "source": [
        "### 5. Hyperparameter Tuning\r\n",
        "\r\n",
        "Remember, if you're ever trying to tune a machine learning models hyperparameters and you're not sure where to start, you can always search something like \"MODEL_NAME hyperparameter tuning\".\r\n",
        "\r\n",
        "In the case of LogisticRegression, you might come across articles, such as [Hyoerparameter Tuning Using Grid Search, by Chris Albon.](https://chrisalbon.com/machine_learning/model_selection/hyperparameter_tuning_using_grid_search/)\r\n",
        "\r\n",
        "The article uses GridSearchCV but we're going to be using RandomizedSearchCV."
      ]
    },
    {
      "cell_type": "code",
      "metadata": {
        "id": "fRsh8DJ5aG7d"
      },
      "source": [
        "# Different LogisticRegression hyperparameters\r\n",
        "log_reg_grid = {\"C\": np.logspace(-4, 4, 20),\r\n",
        "                \"solver\": [\"liblinear\"]}"
      ],
      "execution_count": null,
      "outputs": []
    },
    {
      "cell_type": "markdown",
      "metadata": {
        "id": "IZ2DfZonaOmt"
      },
      "source": [
        "Since we've got a set of hyperparameters we can import RandomizedSearchCV, pass it our dictionary of hyperparameters and let it search for the best combination."
      ]
    },
    {
      "cell_type": "code",
      "metadata": {
        "colab": {
          "base_uri": "https://localhost:8080/"
        },
        "id": "Zjlfs1rraZMa",
        "outputId": "0a4c3f24-9593-4588-b79b-06d2465043f5"
      },
      "source": [
        "# Setup np random seed of 42\r\n",
        "np.random.seed(42)\r\n",
        "\r\n",
        "# Import RandomizedSearchCV from sklearn's model_selection module\r\n",
        "from sklearn.model_selection import RandomizedSearchCV\r\n",
        "\r\n",
        "# Setup an instance of RandomizedSearchCV with a LogisticRegression() estimator,\r\n",
        "# our log_reg_grid as the param_distributions, a cv of 5 and n_iter of 5.\r\n",
        "rs_log_reg = RandomizedSearchCV(estimator=LogisticRegression(),\r\n",
        "                                param_distributions=log_reg_grid,\r\n",
        "                                cv=5,\r\n",
        "                                n_iter=5,\r\n",
        "                                verbose=True)\r\n",
        "\r\n",
        "# Fit the instance of RandomizedSearchCV\r\n",
        "rs_log_reg.fit(X_train, y_train);"
      ],
      "execution_count": null,
      "outputs": [
        {
          "output_type": "stream",
          "text": [
            "Fitting 5 folds for each of 5 candidates, totalling 25 fits\n"
          ],
          "name": "stdout"
        },
        {
          "output_type": "stream",
          "text": [
            "[Parallel(n_jobs=1)]: Using backend SequentialBackend with 1 concurrent workers.\n",
            "[Parallel(n_jobs=1)]: Done  25 out of  25 | elapsed:    0.1s finished\n"
          ],
          "name": "stderr"
        }
      ]
    },
    {
      "cell_type": "code",
      "metadata": {
        "colab": {
          "base_uri": "https://localhost:8080/"
        },
        "id": "LIZ9hs46aa3G",
        "outputId": "91bd5f3b-778a-41ac-d405-c6f1257b6d0b"
      },
      "source": [
        "# Find the best parameters of the RandomizedSearchCV instance using the best_params_ attribute\r\n",
        "rs_log_reg.best_params_"
      ],
      "execution_count": null,
      "outputs": [
        {
          "output_type": "execute_result",
          "data": {
            "text/plain": [
              "{'C': 206.913808111479, 'solver': 'liblinear'}"
            ]
          },
          "metadata": {
            "tags": []
          },
          "execution_count": 29
        }
      ]
    },
    {
      "cell_type": "code",
      "metadata": {
        "colab": {
          "base_uri": "https://localhost:8080/"
        },
        "id": "uwD-FPI1aeaV",
        "outputId": "b60c41d4-01e6-406b-bfb2-6ac1ceb861a7"
      },
      "source": [
        "# Score the instance of RandomizedSearchCV using the test data\r\n",
        "rs_log_reg.score(X_test, y_test)"
      ],
      "execution_count": null,
      "outputs": [
        {
          "output_type": "execute_result",
          "data": {
            "text/plain": [
              "0.8032786885245902"
            ]
          },
          "metadata": {
            "tags": []
          },
          "execution_count": 30
        }
      ]
    },
    {
      "cell_type": "markdown",
      "metadata": {
        "id": "zI-GQSqSag9H"
      },
      "source": [
        "### **Classifier Model Evaluation**\r\n",
        "We've tried to find the best hyperparameters on our model using RandomizedSearchCV and so far we've only been evaluating our model using the score() function which returns accuracy.\r\n",
        "\r\n",
        "But when it comes to classification, you'll likely want to use a few more evaluation metrics, including:\r\n",
        "\r\n",
        "* Confusion matrix - Compares the predicted values with the true values in a tabular way, if 100% correct, all values in the matrix will be top left to bottom right (diagnol line).\r\n",
        "* Cross-validation - Splits your dataset into multiple parts and train and tests your model on each part and evaluates performance as an average.\r\n",
        "* Precision - Proportion of true positives over total number of samples. Higher precision leads to less false positives.\r\n",
        "* Recall - Proportion of true positives over total number of true positives and false positives. Higher recall leads to less false negatives.\r\n",
        "* F1 score - Combines precision and recall into one metric. 1 is best, 0 is worst.\r\n",
        "* Classification report - Sklearn has a built-in function called classification_report() which returns some of the main classification metrics such as precision, recall and f1-score.\r\n",
        "* ROC Curve - Receiver Operating Characterisitc is a plot of true positive rate versus false positive rate.\r\n",
        "* Area Under Curve (AUC) - The area underneath the ROC curve. A perfect model achieves a score of 1.0.\r\n",
        "\r\n",
        "Before we get to these, we'll instantiate a new instance of our model using the best hyerparameters found by RandomizedSearchCV."
      ]
    },
    {
      "cell_type": "code",
      "metadata": {
        "id": "ZLIywzsnax0B"
      },
      "source": [
        "# Instantiate a LogisticRegression classifier using the best hyperparameters from RandomizedSearchCV\r\n",
        "clf = LogisticRegression(solver=\"liblinear\", C=0.23357214690901212)\r\n",
        "\r\n",
        "# Fit the new instance of LogisticRegression with the best hyperparameters on the training data \r\n",
        "clf.fit(X_train, y_train);"
      ],
      "execution_count": null,
      "outputs": []
    },
    {
      "cell_type": "code",
      "metadata": {
        "id": "e6VJLC5xa5e_"
      },
      "source": [
        "# Import confusion_matrix and classification_report from sklearn's metrics module\r\n",
        "from sklearn.metrics import confusion_matrix, classification_report\r\n",
        "\r\n",
        "# Import precision_score, recall_score and f1_score from sklearn's metrics module\r\n",
        "from sklearn.metrics import precision_score, recall_score, f1_score\r\n",
        "\r\n",
        "# Import plot_roc_curve from sklearn's metrics module\r\n",
        "from sklearn.metrics import plot_roc_curve"
      ],
      "execution_count": null,
      "outputs": []
    },
    {
      "cell_type": "code",
      "metadata": {
        "id": "U9L73NWka7Fl"
      },
      "source": [
        "# Make predictions on test data and save them\r\n",
        "y_preds = clf.predict(X_test)"
      ],
      "execution_count": null,
      "outputs": []
    },
    {
      "cell_type": "code",
      "metadata": {
        "colab": {
          "base_uri": "https://localhost:8080/"
        },
        "id": "FuQeip1VbH7k",
        "outputId": "3472e33b-ca69-4b3a-ed88-49cf2eaf3ef5"
      },
      "source": [
        "# Create a confusion matrix using the confusion_matrix function\r\n",
        "confusion_matrix(y_test, y_preds)"
      ],
      "execution_count": null,
      "outputs": [
        {
          "output_type": "execute_result",
          "data": {
            "text/plain": [
              "array([[24, 12],\n",
              "       [ 0, 25]])"
            ]
          },
          "metadata": {
            "tags": []
          },
          "execution_count": 35
        }
      ]
    },
    {
      "cell_type": "code",
      "metadata": {
        "colab": {
          "base_uri": "https://localhost:8080/",
          "height": 225
        },
        "id": "zLlgp-dWbOE0",
        "outputId": "fa22a902-9578-441d-e851-77f2cb86ce9e"
      },
      "source": [
        "# Import seaborn for improving visualisation of confusion matrix\r\n",
        "import seaborn as sns\r\n",
        "\r\n",
        "# Make confusion matrix more visual\r\n",
        "def plot_conf_mat(y_test, y_preds):\r\n",
        "    \"\"\"\r\n",
        "    Plots a confusion matrix using Seaborn's heatmap().\r\n",
        "    \"\"\"\r\n",
        "    fig, ax = plt.subplots(figsize=(3, 3))\r\n",
        "    ax = sns.heatmap(confusion_matrix(y_test, y_preds),\r\n",
        "                     annot=True, # Annotate the boxes\r\n",
        "                     cbar=False)\r\n",
        "    plt.xlabel(\"Predicted label\")\r\n",
        "    plt.ylabel(\"True label\")\r\n",
        "    \r\n",
        "    # Fix the broken annotations (this happened in Matplotlib 3.1.1)\r\n",
        "    bottom, top = ax.get_ylim()\r\n",
        "    ax.set_ylim(bottom + 0.5, top - 0.5);\r\n",
        "    \r\n",
        "plot_conf_mat(y_test, y_preds)"
      ],
      "execution_count": null,
      "outputs": [
        {
          "output_type": "display_data",
          "data": {
            "image/png": "[encoded data removed]",
            "text/plain": [
              "<Figure size 216x216 with 1 Axes>"
            ]
          },
          "metadata": {
            "tags": [],
            "needs_background": "light"
          }
        }
      ]
    },
    {
      "cell_type": "code",
      "metadata": {
        "colab": {
          "base_uri": "https://localhost:8080/"
        },
        "id": "vYFnVs17bQeO",
        "outputId": "3971001f-b7f3-4a1f-9ae6-30b10decf688"
      },
      "source": [
        "# classification report\r\n",
        "print(classification_report(y_test, y_preds))"
      ],
      "execution_count": null,
      "outputs": [
        {
          "output_type": "stream",
          "text": [
            "              precision    recall  f1-score   support\n",
            "\n",
            "           0       1.00      0.67      0.80        36\n",
            "           1       0.68      1.00      0.81        25\n",
            "\n",
            "    accuracy                           0.80        61\n",
            "   macro avg       0.84      0.83      0.80        61\n",
            "weighted avg       0.87      0.80      0.80        61\n",
            "\n"
          ],
          "name": "stdout"
        }
      ]
    },
    {
      "cell_type": "markdown",
      "metadata": {
        "id": "N7m11MbfbUFF"
      },
      "source": [
        "* Precision - Indicates the proportion of positive identifications (model predicted class 1) which were actually correct. A model which produces no false positives has a precision of 1.0.\r\n",
        "* Recall - Indicates the proportion of actual positives which were correctly classified. A model which produces no false negatives has a recall of 1.0.\r\n",
        "* F1 score - A combination of precision and recall. A perfect model achieves an F1 score of 1.0.\r\n",
        "* Support - The number of samples each metric was calculated on.\r\n",
        "* Accuracy - The accuracy of the model in decimal form. Perfect accuracy is equal to 1.0.\r\n",
        "* Macro avg - Short for macro average, the average precision, recall and F1 score between classes. Macro avg doesn’t class imbalance into effort, so if you do have class imbalances, pay attention to this metric.\r\n",
        "* Weighted avg - Short for weighted average, the weighted average precision, recall and F1 score between classes. Weighted means each metric is calculated with respect to how many samples there are in each class. This metric will favour the majority class (e.g. will give a high value when one class out performs another due to having more samples).\r\n",
        "\r\n",
        "The classification report gives us a range of values for precision, recall and F1 score, time to find these metrics using Scikit-Learn functions."
      ]
    },
    {
      "cell_type": "code",
      "metadata": {
        "colab": {
          "base_uri": "https://localhost:8080/"
        },
        "id": "N7lPmkfYboiX",
        "outputId": "a7b147b1-35c8-442a-a02b-8bcede2e1919"
      },
      "source": [
        "# Find the precision score of the model using precision_score()\r\n",
        "precision_score(y_test, y_preds)"
      ],
      "execution_count": null,
      "outputs": [
        {
          "output_type": "execute_result",
          "data": {
            "text/plain": [
              "0.6756756756756757"
            ]
          },
          "metadata": {
            "tags": []
          },
          "execution_count": 38
        }
      ]
    },
    {
      "cell_type": "code",
      "metadata": {
        "colab": {
          "base_uri": "https://localhost:8080/"
        },
        "id": "qS1xPpsibrUR",
        "outputId": "c054e3ed-74f5-42b4-ef13-7479a8e2b4b5"
      },
      "source": [
        "# Find the recall score\r\n",
        "recall_score(y_test, y_preds)"
      ],
      "execution_count": null,
      "outputs": [
        {
          "output_type": "execute_result",
          "data": {
            "text/plain": [
              "1.0"
            ]
          },
          "metadata": {
            "tags": []
          },
          "execution_count": 39
        }
      ]
    },
    {
      "cell_type": "code",
      "metadata": {
        "colab": {
          "base_uri": "https://localhost:8080/"
        },
        "id": "SWBdYVHtbu1z",
        "outputId": "759a3ba8-87dc-4ed7-ec38-fd6366673f22"
      },
      "source": [
        "# Find the F1 score\r\n",
        "f1_score(y_test, y_preds)"
      ],
      "execution_count": null,
      "outputs": [
        {
          "output_type": "execute_result",
          "data": {
            "text/plain": [
              "0.8064516129032258"
            ]
          },
          "metadata": {
            "tags": []
          },
          "execution_count": 40
        }
      ]
    },
    {
      "cell_type": "markdown",
      "metadata": {
        "id": "q7Al4ALLcJYu"
      },
      "source": [
        "Lets do a ROC (receiver operator characteristic) curve and a AUC (area under the curve) score.\r\n",
        "\r\n",
        "In a sentence, a ROC curve is a plot of the true positive rate versus the false positive rate.\r\n",
        "\r\n",
        "And the AUC score is the area behind the ROC curve."
      ]
    },
    {
      "cell_type": "code",
      "metadata": {
        "colab": {
          "base_uri": "https://localhost:8080/",
          "height": 279
        },
        "id": "30MVh0WWcjzR",
        "outputId": "af9b8407-25b9-4482-f93f-7adcdf44d423"
      },
      "source": [
        "# Plot a ROC curve using our current machine learning model using plot_roc_curve\r\n",
        "plot_roc_curve(clf, X_test, y_test);"
      ],
      "execution_count": null,
      "outputs": [
        {
          "output_type": "display_data",
          "data": {
            "image/png": "[encoded data removed]",
            "text/plain": [
              "<Figure size 432x288 with 1 Axes>"
            ]
          },
          "metadata": {
            "tags": [],
            "needs_background": "light"
          }
        }
      ]
    },
    {
      "cell_type": "markdown",
      "metadata": {
        "id": "t4eBWix2crwi"
      },
      "source": [
        "The thing to note here is all of these metrics have been calculated using a single training set and a single test set. Whilst this is okay, a more robust way is to calculate them using cross-validation.\r\n",
        "\r\n",
        "We can calculate various evaluation metrics using cross-validation using Scikit-Learn's cross_val_score() function along with the scoring parameter."
      ]
    },
    {
      "cell_type": "code",
      "metadata": {
        "id": "LQtnSzvjcxOI"
      },
      "source": [
        "# Import cross_val_score from sklearn's model_selection module\r\n",
        "from sklearn.model_selection import cross_val_score"
      ],
      "execution_count": null,
      "outputs": []
    },
    {
      "cell_type": "code",
      "metadata": {
        "colab": {
          "base_uri": "https://localhost:8080/"
        },
        "id": "vX7hMiN8cxkI",
        "outputId": "01763c61-e56c-43ec-e596-c27fcd1934b8"
      },
      "source": [
        "# EXAMPLE: By default cross_val_score returns 5 values (cv=5).\r\n",
        "cross_val_score(clf, \r\n",
        "                X, \r\n",
        "                y, \r\n",
        "                scoring=\"accuracy\",\r\n",
        "                cv=5)"
      ],
      "execution_count": null,
      "outputs": [
        {
          "output_type": "execute_result",
          "data": {
            "text/plain": [
              "array([0.81967213, 0.90163934, 0.8852459 , 0.88333333, 0.75      ])"
            ]
          },
          "metadata": {
            "tags": []
          },
          "execution_count": 43
        }
      ]
    },
    {
      "cell_type": "code",
      "metadata": {
        "colab": {
          "base_uri": "https://localhost:8080/"
        },
        "id": "-THiyh0oc0yA",
        "outputId": "854d695d-4d82-40a3-d058-f7b11bb63482"
      },
      "source": [
        "# EXAMPLE: Taking the mean of the returned values from cross_val_score \r\n",
        "# gives a cross-validated version of the scoring metric.\r\n",
        "cross_val_acc = np.mean(cross_val_score(clf,\r\n",
        "                                        X,\r\n",
        "                                        y,\r\n",
        "                                        scoring=\"accuracy\",\r\n",
        "                                        cv=5))\r\n",
        "\r\n",
        "cross_val_acc"
      ],
      "execution_count": null,
      "outputs": [
        {
          "output_type": "execute_result",
          "data": {
            "text/plain": [
              "0.8479781420765027"
            ]
          },
          "metadata": {
            "tags": []
          },
          "execution_count": 44
        }
      ]
    },
    {
      "cell_type": "markdown",
      "metadata": {
        "id": "eYL6VnMBc4CW"
      },
      "source": [
        "In the examples, the cross-validated accuracy is found by taking the mean of the array returned by cross_val_score().\r\n",
        "\r\n",
        "Now it's time to find the same for precision, recall and F1 score."
      ]
    },
    {
      "cell_type": "code",
      "metadata": {
        "colab": {
          "base_uri": "https://localhost:8080/"
        },
        "id": "Y7DdZZ6uc93Y",
        "outputId": "485bc34a-34a8-464c-ce5e-639cda65c032"
      },
      "source": [
        "# Find the cross-validated precision\r\n",
        "cross_val_precision = np.mean(cross_val_score(clf,\r\n",
        "                                              X,\r\n",
        "                                              y,\r\n",
        "                                              scoring=\"precision\",\r\n",
        "                                              cv=5))\r\n",
        "\r\n",
        "cross_val_precision"
      ],
      "execution_count": null,
      "outputs": [
        {
          "output_type": "execute_result",
          "data": {
            "text/plain": [
              "0.8215873015873015"
            ]
          },
          "metadata": {
            "tags": []
          },
          "execution_count": 45
        }
      ]
    },
    {
      "cell_type": "code",
      "metadata": {
        "colab": {
          "base_uri": "https://localhost:8080/"
        },
        "id": "fDSjMGJBc-MM",
        "outputId": "9ec76009-6e27-4a28-a3f1-9af05a3b4469"
      },
      "source": [
        "# Find the cross-validated recall\r\n",
        "cross_val_recall = np.mean(cross_val_score(clf,\r\n",
        "                                           X,\r\n",
        "                                           y,\r\n",
        "                                           scoring=\"recall\",\r\n",
        "                                           cv=5))\r\n",
        "\r\n",
        "cross_val_recall"
      ],
      "execution_count": null,
      "outputs": [
        {
          "output_type": "execute_result",
          "data": {
            "text/plain": [
              "0.9272727272727274"
            ]
          },
          "metadata": {
            "tags": []
          },
          "execution_count": 46
        }
      ]
    },
    {
      "cell_type": "code",
      "metadata": {
        "colab": {
          "base_uri": "https://localhost:8080/"
        },
        "id": "LZOXfp8RdAQq",
        "outputId": "8617ffd2-c516-4783-b2e0-32f0fe37f5e2"
      },
      "source": [
        "# Find the cross-validated F1 score\r\n",
        "cross_val_f1 = np.mean(cross_val_score(clf,\r\n",
        "                                       X,\r\n",
        "                                       y,\r\n",
        "                                       scoring=\"f1\",\r\n",
        "                                       cv=5))\r\n",
        "\r\n",
        "cross_val_f1"
      ],
      "execution_count": null,
      "outputs": [
        {
          "output_type": "execute_result",
          "data": {
            "text/plain": [
              "0.8705403543192143"
            ]
          },
          "metadata": {
            "tags": []
          },
          "execution_count": 47
        }
      ]
    },
    {
      "cell_type": "markdown",
      "metadata": {
        "id": "riOIvgKKdCLe"
      },
      "source": [
        "### **Exporting and importing a trained model**\r\n",
        "Once you've trained a model, you may want to export it and save it to file so you can share it or use it elsewhere.\r\n",
        "\r\n",
        "One method of exporting and importing models is using the joblib library.\r\n",
        "\r\n",
        "In Scikit-Learn, exporting and importing a trained model is known as model persistence."
      ]
    },
    {
      "cell_type": "code",
      "metadata": {
        "id": "O9a1gM2XdI0k"
      },
      "source": [
        "# Import the dump and load functions from the joblib library\r\n",
        "from joblib import dump, load"
      ],
      "execution_count": null,
      "outputs": []
    },
    {
      "cell_type": "code",
      "metadata": {
        "colab": {
          "base_uri": "https://localhost:8080/"
        },
        "id": "CWd4kM_2dLPg",
        "outputId": "be8941a8-47f2-4e62-d492-cab5ed5a309c"
      },
      "source": [
        "# Use the dump function to export the trained model to file\r\n",
        "dump(clf, \"trained-classifier.joblib\")"
      ],
      "execution_count": null,
      "outputs": [
        {
          "output_type": "execute_result",
          "data": {
            "text/plain": [
              "['trained-classifier.joblib']"
            ]
          },
          "metadata": {
            "tags": []
          },
          "execution_count": 49
        }
      ]
    },
    {
      "cell_type": "code",
      "metadata": {
        "colab": {
          "base_uri": "https://localhost:8080/"
        },
        "id": "yTZ5ZzBNdN6q",
        "outputId": "567c61ab-17c0-4b7e-8467-4711b192dced"
      },
      "source": [
        "# Use the load function to import the trained model you just exported\r\n",
        "# Save it to a different variable name to the origial trained model\r\n",
        "loaded_clf = load(\"trained-classifier.joblib\")\r\n",
        "\r\n",
        "# Evaluate the loaded trained model on the test data\r\n",
        "loaded_clf.score(X_test, y_test)"
      ],
      "execution_count": null,
      "outputs": [
        {
          "output_type": "execute_result",
          "data": {
            "text/plain": [
              "0.8032786885245902"
            ]
          },
          "metadata": {
            "tags": []
          },
          "execution_count": 50
        }
      ]
    },
    {
      "cell_type": "markdown",
      "metadata": {
        "id": "9hgi-IcWdQWZ"
      },
      "source": [
        "### **Scikit-Learn Regression Practice**\r\n",
        "For the next few exercises, we're going to be working on a regression problem, in other words, using some data to predict a number.\r\n",
        "\r\n",
        "Our dataset is a table of car sales, containing different car characteristics as well as a sale price.\r\n",
        "\r\n",
        "We'll use Scikit-Learn's built-in regression machine learning models to try and learn the patterns in the car characteristics and their prices on a certain group of the dataset before trying to predict the sale price of a group of cars the model has never seen before.\r\n",
        "\r\n",
        "To begin, we'll import the data from Google Drive into a pandas DataFrame, check out some details about it and try to build a model as soon as possible."
      ]
    },
    {
      "cell_type": "code",
      "metadata": {
        "colab": {
          "base_uri": "https://localhost:8080/",
          "height": 204
        },
        "id": "sVC2Ukd9d2R-",
        "outputId": "12e10e96-cbd5-4658-df8c-b1f4f3cceca3"
      },
      "source": [
        "# Read in the car sales data\r\n",
        "car_sales = pd.read_csv(\"/content/drive/MyDrive/Curso Machine Learning e Data Science/Dados/car-sales-extended-missing-data.csv\")\r\n",
        "\r\n",
        "# View the first 5 rows of the car sales data\r\n",
        "car_sales.head()"
      ],
      "execution_count": null,
      "outputs": [
        {
          "output_type": "execute_result",
          "data": {
            "text/html": [
              "<div>\n",
              "<style scoped>\n",
              "    .dataframe tbody tr th:only-of-type {\n",
              "        vertical-align: middle;\n",
              "    }\n",
              "\n",
              "    .dataframe tbody tr th {\n",
              "        vertical-align: top;\n",
              "    }\n",
              "\n",
              "    .dataframe thead th {\n",
              "        text-align: right;\n",
              "    }\n",
              "</style>\n",
              "<table border=\"1\" class=\"dataframe\">\n",
              "  <thead>\n",
              "    <tr style=\"text-align: right;\">\n",
              "      <th></th>\n",
              "      <th>Make</th>\n",
              "      <th>Colour</th>\n",
              "      <th>Odometer (KM)</th>\n",
              "      <th>Doors</th>\n",
              "      <th>Price</th>\n",
              "    </tr>\n",
              "  </thead>\n",
              "  <tbody>\n",
              "    <tr>\n",
              "      <th>0</th>\n",
              "      <td>Honda</td>\n",
              "      <td>White</td>\n",
              "      <td>35431.0</td>\n",
              "      <td>4.0</td>\n",
              "      <td>15323.0</td>\n",
              "    </tr>\n",
              "    <tr>\n",
              "      <th>1</th>\n",
              "      <td>BMW</td>\n",
              "      <td>Blue</td>\n",
              "      <td>192714.0</td>\n",
              "      <td>5.0</td>\n",
              "      <td>19943.0</td>\n",
              "    </tr>\n",
              "    <tr>\n",
              "      <th>2</th>\n",
              "      <td>Honda</td>\n",
              "      <td>White</td>\n",
              "      <td>84714.0</td>\n",
              "      <td>4.0</td>\n",
              "      <td>28343.0</td>\n",
              "    </tr>\n",
              "    <tr>\n",
              "      <th>3</th>\n",
              "      <td>Toyota</td>\n",
              "      <td>White</td>\n",
              "      <td>154365.0</td>\n",
              "      <td>4.0</td>\n",
              "      <td>13434.0</td>\n",
              "    </tr>\n",
              "    <tr>\n",
              "      <th>4</th>\n",
              "      <td>Nissan</td>\n",
              "      <td>Blue</td>\n",
              "      <td>181577.0</td>\n",
              "      <td>3.0</td>\n",
              "      <td>14043.0</td>\n",
              "    </tr>\n",
              "  </tbody>\n",
              "</table>\n",
              "</div>"
            ],
            "text/plain": [
              "     Make Colour  Odometer (KM)  Doors    Price\n",
              "0   Honda  White        35431.0    4.0  15323.0\n",
              "1     BMW   Blue       192714.0    5.0  19943.0\n",
              "2   Honda  White        84714.0    4.0  28343.0\n",
              "3  Toyota  White       154365.0    4.0  13434.0\n",
              "4  Nissan   Blue       181577.0    3.0  14043.0"
            ]
          },
          "metadata": {
            "tags": []
          },
          "execution_count": 51
        }
      ]
    },
    {
      "cell_type": "code",
      "metadata": {
        "colab": {
          "base_uri": "https://localhost:8080/"
        },
        "id": "LLvmdogxd9f9",
        "outputId": "f5ccfbc7-1688-47af-fdd0-04d0a2e8429f"
      },
      "source": [
        "# Get information about the car sales DataFrame\r\n",
        "car_sales.info()"
      ],
      "execution_count": null,
      "outputs": [
        {
          "output_type": "stream",
          "text": [
            "<class 'pandas.core.frame.DataFrame'>\n",
            "RangeIndex: 1000 entries, 0 to 999\n",
            "Data columns (total 5 columns):\n",
            " #   Column         Non-Null Count  Dtype  \n",
            "---  ------         --------------  -----  \n",
            " 0   Make           951 non-null    object \n",
            " 1   Colour         950 non-null    object \n",
            " 2   Odometer (KM)  950 non-null    float64\n",
            " 3   Doors          950 non-null    float64\n",
            " 4   Price          950 non-null    float64\n",
            "dtypes: float64(3), object(2)\n",
            "memory usage: 39.2+ KB\n"
          ],
          "name": "stdout"
        }
      ]
    },
    {
      "cell_type": "code",
      "metadata": {
        "colab": {
          "base_uri": "https://localhost:8080/"
        },
        "id": "7xAid-dFeBHC",
        "outputId": "25f97cf6-517c-4f55-8c25-a1fa36045cd0"
      },
      "source": [
        "# Find number of missing values in each column\r\n",
        "car_sales.isna().sum()"
      ],
      "execution_count": null,
      "outputs": [
        {
          "output_type": "execute_result",
          "data": {
            "text/plain": [
              "Make             49\n",
              "Colour           50\n",
              "Odometer (KM)    50\n",
              "Doors            50\n",
              "Price            50\n",
              "dtype: int64"
            ]
          },
          "metadata": {
            "tags": []
          },
          "execution_count": 55
        }
      ]
    },
    {
      "cell_type": "code",
      "metadata": {
        "colab": {
          "base_uri": "https://localhost:8080/"
        },
        "id": "VaFe0HPEeH3g",
        "outputId": "7a366ad1-3d95-4b46-c29d-b1ba5303a6e9"
      },
      "source": [
        "# Find the datatypes of each column of car_sales\r\n",
        "car_sales.dtypes"
      ],
      "execution_count": null,
      "outputs": [
        {
          "output_type": "execute_result",
          "data": {
            "text/plain": [
              "Make              object\n",
              "Colour            object\n",
              "Odometer (KM)    float64\n",
              "Doors            float64\n",
              "Price            float64\n",
              "dtype: object"
            ]
          },
          "metadata": {
            "tags": []
          },
          "execution_count": 56
        }
      ]
    },
    {
      "cell_type": "code",
      "metadata": {
        "id": "pvoeuP7IeJOb"
      },
      "source": [
        "# Remove rows with no labels (NaN's in the Price column)\r\n",
        "car_sales.dropna(subset=[\"Price\"], inplace=True)"
      ],
      "execution_count": null,
      "outputs": []
    },
    {
      "cell_type": "markdown",
      "metadata": {
        "id": "7vV8lL_NePih"
      },
      "source": [
        "### **Building a pipeline**\r\n",
        "Since our car_sales data has missing numerical values as well as the data isn't all numerical, we'll have to fix these things before we can fit a machine learning model on it.\r\n",
        "\r\n",
        "There are ways we could do this with pandas but since we're practicing Scikit-Learn, we'll see how we might do it with the Pipeline class.\r\n",
        "\r\n",
        "Because we're modifying columns in our dataframe (filling missing values, converting non-numerical data to numbers) we'll need the ColumnTransformer, SimpleImputer and OneHotEncoder classes as well.\r\n",
        "\r\n",
        "Finally, because we'll need to split our data into training and test sets, we'll import train_test_split as well."
      ]
    },
    {
      "cell_type": "code",
      "metadata": {
        "id": "UFixqEPyejG2"
      },
      "source": [
        "# Import Pipeline from sklearn's pipeline module\r\n",
        "from sklearn.pipeline import Pipeline\r\n",
        "\r\n",
        "# Import ColumnTransformer from sklearn's compose module\r\n",
        "from sklearn.compose import ColumnTransformer\r\n",
        "\r\n",
        "# Import SimpleImputer from sklearn's impute module\r\n",
        "from sklearn.impute import SimpleImputer\r\n",
        "\r\n",
        "# Import OneHotEncoder from sklearn's preprocessing module\r\n",
        "from sklearn.preprocessing import OneHotEncoder\r\n",
        "\r\n",
        "# Import train_test_split from sklearn's model_selection module\r\n",
        "from sklearn.model_selection import train_test_split"
      ],
      "execution_count": null,
      "outputs": []
    },
    {
      "cell_type": "markdown",
      "metadata": {
        "id": "WZjQv_Qqem_E"
      },
      "source": [
        "Let's start with the categorical features."
      ]
    },
    {
      "cell_type": "code",
      "metadata": {
        "id": "fMbhjxVWepO0"
      },
      "source": [
        "# Define different categorical features \r\n",
        "categorical_features = [\"Make\", \"Colour\"]\r\n",
        "\r\n",
        "# Create categorical transformer Pipeline\r\n",
        "categorical_transformer = Pipeline(steps=[\r\n",
        "    # Set SimpleImputer strategy to \"constant\" and fill value to \"missing\"\r\n",
        "    (\"imputer\", SimpleImputer(strategy=\"constant\", fill_value=\"missing\")),\r\n",
        "    # Set OneHotEncoder to ignore the unknowns\r\n",
        "    (\"onehot\", OneHotEncoder(handle_unknown=\"ignore\"))])"
      ],
      "execution_count": null,
      "outputs": []
    },
    {
      "cell_type": "markdown",
      "metadata": {
        "id": "YK96Jfyrer0c"
      },
      "source": [
        "It would be safe to treat Doors as a categorical feature as well, however since we know the vast majority of cars have 4 doors, we'll impute the missing Doors values as 4."
      ]
    },
    {
      "cell_type": "code",
      "metadata": {
        "id": "MLpclACueuIJ"
      },
      "source": [
        "# Define Doors features\r\n",
        "door_feature = [\"Doors\"]\r\n",
        "\r\n",
        "# Create Doors transformer Pipeline\r\n",
        "door_transformer = Pipeline(steps=[\r\n",
        "    # Set SimpleImputer strategy to \"constant\" and fill value to 4\r\n",
        "    (\"imputer\", SimpleImputer(strategy=\"constant\", fill_value=4))])"
      ],
      "execution_count": null,
      "outputs": []
    },
    {
      "cell_type": "markdown",
      "metadata": {
        "id": "OZgLr-SyevoN"
      },
      "source": [
        "Now onto the numeric features. In this case, the only numeric feature is the Odometer (KM) column. Let's fill its missing values with the median."
      ]
    },
    {
      "cell_type": "code",
      "metadata": {
        "id": "u-1rbhQeeyhb"
      },
      "source": [
        "# Define numeric features (only the Odometer (KM) column)\r\n",
        "numeric_features = [\"Odometer (KM)\"]\r\n",
        "\r\n",
        "# Crearte numeric transformer Pipeline\r\n",
        "numeric_transformer = Pipeline(steps=[\r\n",
        "    # Set SimpleImputer strategy to fill missing values with the \"Median\"\r\n",
        "    (\"imputer\", SimpleImputer(strategy=\"median\"))])"
      ],
      "execution_count": null,
      "outputs": []
    },
    {
      "cell_type": "markdown",
      "metadata": {
        "id": "yKepIQGJe3JT"
      },
      "source": [
        "Time to put all of our individual transformer Pipeline's into a single ColumnTransformer instance."
      ]
    },
    {
      "cell_type": "code",
      "metadata": {
        "id": "g_rrGjURe8AP"
      },
      "source": [
        "# Setup preprocessing steps (fill missing values, then convert to numbers)\r\n",
        "preprocessor = ColumnTransformer(\r\n",
        "    transformers=[\r\n",
        "        # Use the categorical_transformer to transform the categorical_features\r\n",
        "        (\"cat\", categorical_transformer, categorical_features),\r\n",
        "        # Use the door_transformer to transform the door_feature\r\n",
        "        (\"door\", door_transformer, door_feature),\r\n",
        "        # Use the numeric_transformer to transform the numeric_features\r\n",
        "        (\"num\", numeric_transformer, numeric_features)])"
      ],
      "execution_count": null,
      "outputs": []
    },
    {
      "cell_type": "markdown",
      "metadata": {
        "id": "uA38mBCRe9TK"
      },
      "source": [
        "Boom! Now our preprocessor is ready, time to import some regression models to try out.\r\n",
        "\r\n",
        "Comparing our data to the Scikit-Learn machine learning map, we can see there's a handful of different regression models we can try.\r\n",
        "\r\n",
        "* RidgeRegression\r\n",
        "* SVR(kernel=\"linear\") - short for Support Vector Regressor, a form form of support vector machine.\r\n",
        "* SVR(kernel=\"rbf\") - short for Support Vector Regressor, a form of support vector machine.\r\n",
        "* RandomForestRegressor - the regression version of RandomForestClassifier."
      ]
    },
    {
      "cell_type": "code",
      "metadata": {
        "id": "AtFQ-lk7fEaY"
      },
      "source": [
        "# Import Ridge from sklearn's linear_model module\r\n",
        "from sklearn.linear_model import Ridge\r\n",
        "\r\n",
        "# Import SVR from sklearn's svm module\r\n",
        "from sklearn.svm import SVR\r\n",
        "\r\n",
        "# Import RandomForestRegressor from sklearn's ensemble module\r\n",
        "from sklearn.ensemble import RandomForestRegressor"
      ],
      "execution_count": null,
      "outputs": []
    },
    {
      "cell_type": "markdown",
      "metadata": {
        "id": "PO2-JalCfGiU"
      },
      "source": [
        "To test them all, we'll create a dictionary of regression models and an empty dictionary for regression model results."
      ]
    },
    {
      "cell_type": "code",
      "metadata": {
        "id": "9rjVLlSCfLxp"
      },
      "source": [
        "# Create dictionary of model instances, there should be 4 total key, value pairs\r\n",
        "# in the form {\"model_name\": model_instance}.\r\n",
        "# Don't forget there's two versions of SVR, one with a \"linear\" kernel and the\r\n",
        "# other with kernel set to \"rbf\".\r\n",
        "regression_models = {\"Ridge\": Ridge(),\r\n",
        "                     \"SVR_linear\": SVR(kernel=\"linear\"),\r\n",
        "                     \"SVR_rbf\": SVR(kernel=\"rbf\"),\r\n",
        "                     \"RandomForestRegressor\": RandomForestRegressor()}\r\n",
        "\r\n",
        "# Create an empty dictionary for the regression results\r\n",
        "regression_results = {}"
      ],
      "execution_count": null,
      "outputs": []
    },
    {
      "cell_type": "markdown",
      "metadata": {
        "id": "YzXgN8WSfMLA"
      },
      "source": [
        "Our regression model dictionary is prepared as well as an empty dictionary to append results to, time to get the data split into X (feature variables) and y (target variable) as well as training and test sets.\r\n",
        "\r\n",
        "In our car sales problem, we're trying to use the different characteristics of a car (X) to predict its sale price (y)."
      ]
    },
    {
      "cell_type": "code",
      "metadata": {
        "id": "FJ57Zf8YfPPK"
      },
      "source": [
        "# Create car sales X data (every column of car_sales except Price)\r\n",
        "car_sales_X = car_sales.drop(\"Price\", axis=1)\r\n",
        "\r\n",
        "# Create car sales y data (the Price column of car_sales)\r\n",
        "car_sales_y = car_sales[\"Price\"]"
      ],
      "execution_count": null,
      "outputs": []
    },
    {
      "cell_type": "code",
      "metadata": {
        "colab": {
          "base_uri": "https://localhost:8080/"
        },
        "id": "vF5Ianh2fSBp",
        "outputId": "ebcf1e83-2204-4fc0-c215-2ece9792502b"
      },
      "source": [
        "# Use train_test_split to split the car_sales_X and car_sales_y data into \r\n",
        "# training and test sets.\r\n",
        "# Give the test set 20% of the data using the test_size parameter.\r\n",
        "# For reproducibility set the random_state parameter to 42.\r\n",
        "car_X_train, car_X_test, car_y_train, car_y_test = train_test_split(car_sales_X,\r\n",
        "                                                                    car_sales_y,\r\n",
        "                                                                    test_size=0.2,\r\n",
        "                                                                    random_state=42)\r\n",
        "\r\n",
        "# Check the shapes of the training and test datasets\r\n",
        "car_X_train.shape, car_X_test.shape, car_y_train.shape, car_y_test.shape"
      ],
      "execution_count": null,
      "outputs": [
        {
          "output_type": "execute_result",
          "data": {
            "text/plain": [
              "((760, 4), (190, 4), (760,), (190,))"
            ]
          },
          "metadata": {
            "tags": []
          },
          "execution_count": 68
        }
      ]
    },
    {
      "cell_type": "markdown",
      "metadata": {
        "id": "V8yMz7wtfTuQ"
      },
      "source": [
        "Alright, our data is split into training and test sets, time to build a small loop which is going to:\r\n",
        "\r\n",
        "1. Go through our regression_models dictionary\r\n",
        "2. Create a Pipeline which contains our preprocessor as well as one of the models in the dictionary\r\n",
        "3. Fits the Pipeline to the car sales training data\r\n",
        "4. valuates the target model on the car sales test data and appends the results to our regression_results dictionary"
      ]
    },
    {
      "cell_type": "code",
      "metadata": {
        "colab": {
          "base_uri": "https://localhost:8080/"
        },
        "id": "vFr9v0mafc8w",
        "outputId": "79936478-8639-461f-e84d-a67466fb7a41"
      },
      "source": [
        "# Loop through the items in the regression_models dictionary\r\n",
        "for model_name, model in regression_models.items():\r\n",
        "    \r\n",
        "    # Create a model pipeline with a preprocessor step and model step\r\n",
        "    model_pipeline = Pipeline(steps=[(\"preprocessor\", preprocessor),\r\n",
        "                                      (\"model\", model)])\r\n",
        "    \r\n",
        "    # Fit the model pipeline to the car sales training data\r\n",
        "    print(f\"Fitting {model_name}...\")\r\n",
        "    model_pipeline.fit(car_X_train, car_y_train)\r\n",
        "    \r\n",
        "    # Score the model pipeline on the test data appending the model_name to the \r\n",
        "    # results dictionary\r\n",
        "    print(f\"Scoring {model_name}...\")\r\n",
        "    regression_results[model_name] = model_pipeline.score(car_X_test, \r\n",
        "                                                          car_y_test)"
      ],
      "execution_count": null,
      "outputs": [
        {
          "output_type": "stream",
          "text": [
            "Fitting Ridge...\n",
            "Scoring Ridge...\n",
            "Fitting SVR_linear...\n",
            "Scoring SVR_linear...\n",
            "Fitting SVR_rbf...\n",
            "Scoring SVR_rbf...\n",
            "Fitting RandomForestRegressor...\n",
            "Scoring RandomForestRegressor...\n"
          ],
          "name": "stdout"
        }
      ]
    },
    {
      "cell_type": "code",
      "metadata": {
        "colab": {
          "base_uri": "https://localhost:8080/"
        },
        "id": "NwV8IEdSffQR",
        "outputId": "d340b649-1134-4195-913c-58a1256cccfd"
      },
      "source": [
        "# Check the results of each regression model by printing the regression_results\r\n",
        "# dictionary\r\n",
        "regression_results"
      ],
      "execution_count": null,
      "outputs": [
        {
          "output_type": "execute_result",
          "data": {
            "text/plain": [
              "{'RandomForestRegressor': 0.2291358152962253,\n",
              " 'Ridge': 0.25402611057943936,\n",
              " 'SVR_linear': -0.489452821008145,\n",
              " 'SVR_rbf': 0.0018546241516633755}"
            ]
          },
          "metadata": {
            "tags": []
          },
          "execution_count": 71
        }
      ]
    },
    {
      "cell_type": "markdown",
      "metadata": {
        "id": "ZcGnmhnjga-_"
      },
      "source": [
        "Since we've fitted some models but only compared them via the default metric contained in the score() method (R^2 score or coefficient of determination), let's take the RidgeRegression model and evaluate it with a few other regression metrics.\r\n",
        "\r\n",
        "Specifically, let's find:\r\n",
        "\r\n",
        "1. R^2 (pronounced r-squared) or coefficient of determination - Compares your models predictions to the mean of the targets. Values can range from negative infinity (a very poor model) to 1. For example, if all your model does is predict the mean of the targets, its R^2 value would be 0. And if your model perfectly predicts a range of numbers it's R^2 value would be 1.\r\n",
        "2. Mean absolute error (MAE) - The average of the absolute differences between predictions and actual values. It gives you an idea of how wrong your predictions were.\r\n",
        "3. Mean squared error (MSE) - The average squared differences between predictions and actual values. Squaring the errors removes negative errors. It also amplifies outliers (samples which have larger errors).\r\n",
        "\r\n",
        "Scikit-Learn has a few classes built-in which are going to help us with these, namely, mean_absolute_error, mean_squared_error and r2_score."
      ]
    },
    {
      "cell_type": "code",
      "metadata": {
        "id": "HooRbg-eg7sS"
      },
      "source": [
        "# Import mean_absolute_error from sklearn's metrics module\r\n",
        "from sklearn.metrics import mean_absolute_error\r\n",
        "\r\n",
        "# Import mean_squared_error from sklearn's metrics module\r\n",
        "from sklearn.metrics import mean_squared_error\r\n",
        "\r\n",
        "# Import r2_score from sklearn's metrics module\r\n",
        "from sklearn.metrics import r2_score"
      ],
      "execution_count": null,
      "outputs": []
    },
    {
      "cell_type": "markdown",
      "metadata": {
        "id": "SzfOOt3Sg-G7"
      },
      "source": [
        "All the evaluation metrics we're concerned with compare a model's predictions with the ground truth labels. Knowing this, we'll have to make some predictions.\r\n",
        "\r\n",
        "Let's create a Pipeline with the preprocessor and a Ridge() model, fit it on the car sales training data and then make predictions on the car sales test data."
      ]
    },
    {
      "cell_type": "code",
      "metadata": {
        "colab": {
          "base_uri": "https://localhost:8080/"
        },
        "id": "nVMBasvdhD7X",
        "outputId": "699844c3-68fb-4a52-9c6a-735d2086718c"
      },
      "source": [
        "# Create RidgeRegression Pipeline with preprocessor as the \"preprocessor\" and\r\n",
        "# Ridge() as the \"model\".\r\n",
        "ridge_pipeline = Pipeline(steps=[(\"preprocessor\", preprocessor),\r\n",
        "                                 (\"model\", Ridge())])\r\n",
        "\r\n",
        "# Fit the RidgeRegression Pipeline to the car sales training data\r\n",
        "ridge_pipeline.fit(car_X_train, car_y_train)\r\n",
        "\r\n",
        "# Make predictions on the car sales test data using the RidgeRegression Pipeline\r\n",
        "car_y_preds = ridge_pipeline.predict(car_X_test)\r\n",
        "\r\n",
        "# View the first 50 predictions\r\n",
        "car_y_preds[:50]"
      ],
      "execution_count": null,
      "outputs": [
        {
          "output_type": "execute_result",
          "data": {
            "text/plain": [
              "array([18514.480873  , 22204.86580267, 11045.72092225,  6891.87687957,\n",
              "        8793.93970278, 10926.96786577, 15267.76229871, 13834.80312146,\n",
              "       20207.44377898, 14412.59968701,  6216.01228306, 16543.06707068,\n",
              "       11783.69374936, 13492.13284255, 14321.17899086, 16425.45131776,\n",
              "       15999.88230172,  9925.04252351, 11576.64865889, 11580.55130633,\n",
              "       10647.22402588, 13113.54464064, 17874.90033257, 23447.29246732,\n",
              "       11797.33019118, 14481.85336505, 18430.527126  , 14680.33044208,\n",
              "       20585.63901269, 19953.91395769, 18163.1170151 , 22366.43390174,\n",
              "       12435.69707467, 14265.25495748, 18351.62656383, 19564.58267503,\n",
              "       12213.05747919, 12479.20772529, 18677.93478691, 11284.89072638,\n",
              "       15278.54001605, 17378.81425165, 19247.77623181, 17343.90692672,\n",
              "       15048.12797569, 12724.44477165, 12389.86021752,  8475.63778401,\n",
              "       15255.49324105, 18602.79970861])"
            ]
          },
          "metadata": {
            "tags": []
          },
          "execution_count": 73
        }
      ]
    },
    {
      "cell_type": "markdown",
      "metadata": {
        "id": "qIFXHBUmhERV"
      },
      "source": [
        "Now we've got some predictions, time to evaluate them. We'll find the mean squared error (MSE), mean absolute error (MAE) and R^2 score (coefficient of determination) of our model."
      ]
    },
    {
      "cell_type": "code",
      "metadata": {
        "colab": {
          "base_uri": "https://localhost:8080/"
        },
        "id": "VRl-3biEhL4T",
        "outputId": "a42fab3b-1c56-4d1f-81ee-f77ec2cdac91"
      },
      "source": [
        "# EXAMPLE: Find the MSE by comparing the car sales test labels to the car sales predictions\r\n",
        "mse = mean_squared_error(car_y_test, car_y_preds)\r\n",
        "# Return the MSE\r\n",
        "mse"
      ],
      "execution_count": null,
      "outputs": [
        {
          "output_type": "execute_result",
          "data": {
            "text/plain": [
              "49950182.63337456"
            ]
          },
          "metadata": {
            "tags": []
          },
          "execution_count": 74
        }
      ]
    },
    {
      "cell_type": "code",
      "metadata": {
        "colab": {
          "base_uri": "https://localhost:8080/"
        },
        "id": "G53VunOChNiB",
        "outputId": "c77d1348-6557-4297-e45b-25f055f528dd"
      },
      "source": [
        "# Find the MAE by comparing the car sales test labels to the car sales predictions\r\n",
        "mae =  mean_absolute_error(car_y_test, car_y_preds)\r\n",
        "# Return the MAE\r\n",
        "mae"
      ],
      "execution_count": null,
      "outputs": [
        {
          "output_type": "execute_result",
          "data": {
            "text/plain": [
              "5713.8215208551555"
            ]
          },
          "metadata": {
            "tags": []
          },
          "execution_count": 75
        }
      ]
    },
    {
      "cell_type": "code",
      "metadata": {
        "colab": {
          "base_uri": "https://localhost:8080/"
        },
        "id": "dPnEqotahPA6",
        "outputId": "34a4f6b4-79e6-46fa-ce77-7782564b06e3"
      },
      "source": [
        "# Find the R^2 score by comparing the car sales test labels to the car sales predictions\r\n",
        "r2 = r2_score(car_y_test, car_y_preds)\r\n",
        "# Return the R^2 score\r\n",
        "r2"
      ],
      "execution_count": null,
      "outputs": [
        {
          "output_type": "execute_result",
          "data": {
            "text/plain": [
              "0.25402611057943936"
            ]
          },
          "metadata": {
            "tags": []
          },
          "execution_count": 76
        }
      ]
    },
    {
      "cell_type": "code",
      "metadata": {
        "id": "qfoOcabfhRS7"
      },
      "source": [
        ""
      ],
      "execution_count": null,
      "outputs": []
    }
  ]
}