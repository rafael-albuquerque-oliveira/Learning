{
  "nbformat": 4,
  "nbformat_minor": 0,
  "metadata": {
    "colab": {
      "name": "exemplos_numpy.ipynb",
      "provenance": [],
      "collapsed_sections": [],
      "authorship_tag": "ABX9TyMnYHH2ImDsVUq7wLnRlJ4y",
      "include_colab_link": true
    },
    "kernelspec": {
      "name": "python3",
      "display_name": "Python 3"
    }
  },
  "cells": [
    {
      "cell_type": "markdown",
      "metadata": {
        "id": "view-in-github",
        "colab_type": "text"
      },
      "source": [
        "<a href=\"https://colab.research.google.com/github/rafael-albuquerque-oliveira/Learning/blob/main/exemplos_numpy.ipynb\" target=\"_parent\"><img src=\"https://colab.research.google.com/assets/colab-badge.svg\" alt=\"Open In Colab\"/></a>"
      ]
    },
    {
      "cell_type": "markdown",
      "metadata": {
        "id": "BdSQBvEbHvky"
      },
      "source": [
        "# **NumPy Practice**\r\n",
        "This notebook offers a set of exercises for different tasks with NumPy.\r\n",
        "\r\n",
        "It should be noted there may be more than one different way to answer a question or complete an exercise."
      ]
    },
    {
      "cell_type": "code",
      "metadata": {
        "id": "_56j9c2hI1fY"
      },
      "source": [
        "# 1 - Import numpy as its abbreviation 'np'\r\n",
        "import numpy as np"
      ],
      "execution_count": null,
      "outputs": []
    },
    {
      "cell_type": "code",
      "metadata": {
        "id": "VpObA0BUKEpW"
      },
      "source": [
        "# 2\r\n",
        "# Create a 1-dimensional NumPy array using np.array()\r\n",
        "a1 = np.array([14, 72, 243])\r\n",
        "\r\n",
        "# Create a 2-dimensional NumPy array using np.array()\r\n",
        "a2 = np.array([[1, 2, 3],\r\n",
        "                [4, 5, 6]])\r\n",
        "\r\n",
        "# Create a 3-dimensional Numpy array using np.array()\r\n",
        "a3 = np.array([[[1, 2, 3],\r\n",
        "                [4, 5, 6],\r\n",
        "                [7, 8, 9]],\r\n",
        "                [[10, 11, 12],\r\n",
        "                 [13, 14, 15],\r\n",
        "                 [16, 17, 18]]])"
      ],
      "execution_count": null,
      "outputs": []
    },
    {
      "cell_type": "code",
      "metadata": {
        "colab": {
          "base_uri": "https://localhost:8080/"
        },
        "id": "MgXv-kuNKLAK",
        "outputId": "917e5208-6759-4c80-8db3-e0d06c52d5df"
      },
      "source": [
        "# 3 - Attributes of 1-dimensional array\r\n",
        "a1.shape, a1.ndim, a1.dtype, a1.size, type(a1)"
      ],
      "execution_count": null,
      "outputs": [
        {
          "output_type": "execute_result",
          "data": {
            "text/plain": [
              "((3,), 1, dtype('int64'), 3, numpy.ndarray)"
            ]
          },
          "metadata": {
            "tags": []
          },
          "execution_count": 4
        }
      ]
    },
    {
      "cell_type": "code",
      "metadata": {
        "colab": {
          "base_uri": "https://localhost:8080/"
        },
        "id": "e-A3xaU4KQ-m",
        "outputId": "c746e649-8565-422f-c2d4-cdf5dc8e66ce"
      },
      "source": [
        "# 4 - Attributes of 2-dimensional array\r\n",
        "a2.shape, a2.ndim, a2.dtype, a2.size, type(a2)"
      ],
      "execution_count": null,
      "outputs": [
        {
          "output_type": "execute_result",
          "data": {
            "text/plain": [
              "((2, 3), 2, dtype('int64'), 6, numpy.ndarray)"
            ]
          },
          "metadata": {
            "tags": []
          },
          "execution_count": 5
        }
      ]
    },
    {
      "cell_type": "code",
      "metadata": {
        "colab": {
          "base_uri": "https://localhost:8080/"
        },
        "id": "WnXb2f8WKW3l",
        "outputId": "9a0d3d35-d124-4bd8-ae0a-c49ad674f663"
      },
      "source": [
        "# 5 - Attributes of 3-dimensional array\r\n",
        "a3.shape, a3.ndim, a3.dtype, a3.size, type(a3)"
      ],
      "execution_count": null,
      "outputs": [
        {
          "output_type": "execute_result",
          "data": {
            "text/plain": [
              "((2, 3, 3), 3, dtype('int64'), 18, numpy.ndarray)"
            ]
          },
          "metadata": {
            "tags": []
          },
          "execution_count": 6
        }
      ]
    },
    {
      "cell_type": "code",
      "metadata": {
        "colab": {
          "base_uri": "https://localhost:8080/",
          "height": 111
        },
        "id": "nLuFq_cMKZbA",
        "outputId": "25fd9855-1b9d-4aaa-8499-6b490542ec90"
      },
      "source": [
        "# 6 - Import pandas and create a DataFrame out of one\r\n",
        "# of the arrays you've created\r\n",
        "import pandas as pd\r\n",
        "df = pd.DataFrame(a2)\r\n",
        "df"
      ],
      "execution_count": null,
      "outputs": [
        {
          "output_type": "execute_result",
          "data": {
            "text/html": [
              "<div>\n",
              "<style scoped>\n",
              "    .dataframe tbody tr th:only-of-type {\n",
              "        vertical-align: middle;\n",
              "    }\n",
              "\n",
              "    .dataframe tbody tr th {\n",
              "        vertical-align: top;\n",
              "    }\n",
              "\n",
              "    .dataframe thead th {\n",
              "        text-align: right;\n",
              "    }\n",
              "</style>\n",
              "<table border=\"1\" class=\"dataframe\">\n",
              "  <thead>\n",
              "    <tr style=\"text-align: right;\">\n",
              "      <th></th>\n",
              "      <th>0</th>\n",
              "      <th>1</th>\n",
              "      <th>2</th>\n",
              "    </tr>\n",
              "  </thead>\n",
              "  <tbody>\n",
              "    <tr>\n",
              "      <th>0</th>\n",
              "      <td>1</td>\n",
              "      <td>2</td>\n",
              "      <td>3</td>\n",
              "    </tr>\n",
              "    <tr>\n",
              "      <th>1</th>\n",
              "      <td>4</td>\n",
              "      <td>5</td>\n",
              "      <td>6</td>\n",
              "    </tr>\n",
              "  </tbody>\n",
              "</table>\n",
              "</div>"
            ],
            "text/plain": [
              "   0  1  2\n",
              "0  1  2  3\n",
              "1  4  5  6"
            ]
          },
          "metadata": {
            "tags": []
          },
          "execution_count": 7
        }
      ]
    },
    {
      "cell_type": "code",
      "metadata": {
        "colab": {
          "base_uri": "https://localhost:8080/"
        },
        "id": "W1XCVdQTKcd9",
        "outputId": "832fc338-6a2f-4cd4-c304-e74d56db06d7"
      },
      "source": [
        "# 7 - Create an array of shape (10, 2) with only ones\r\n",
        "ones = np.ones((10, 2))\r\n",
        "ones"
      ],
      "execution_count": null,
      "outputs": [
        {
          "output_type": "execute_result",
          "data": {
            "text/plain": [
              "array([[1., 1.],\n",
              "       [1., 1.],\n",
              "       [1., 1.],\n",
              "       [1., 1.],\n",
              "       [1., 1.],\n",
              "       [1., 1.],\n",
              "       [1., 1.],\n",
              "       [1., 1.],\n",
              "       [1., 1.],\n",
              "       [1., 1.]])"
            ]
          },
          "metadata": {
            "tags": []
          },
          "execution_count": 8
        }
      ]
    },
    {
      "cell_type": "code",
      "metadata": {
        "colab": {
          "base_uri": "https://localhost:8080/"
        },
        "id": "7t_1-CqSKgiD",
        "outputId": "28b1d6ec-125b-4684-f58b-f6beb865141d"
      },
      "source": [
        "# 8 - Create an array of shape (7, 2, 3) of only zeros\r\n",
        "zeros = np.zeros((7, 2, 3))\r\n",
        "zeros"
      ],
      "execution_count": null,
      "outputs": [
        {
          "output_type": "execute_result",
          "data": {
            "text/plain": [
              "array([[[0., 0., 0.],\n",
              "        [0., 0., 0.]],\n",
              "\n",
              "       [[0., 0., 0.],\n",
              "        [0., 0., 0.]],\n",
              "\n",
              "       [[0., 0., 0.],\n",
              "        [0., 0., 0.]],\n",
              "\n",
              "       [[0., 0., 0.],\n",
              "        [0., 0., 0.]],\n",
              "\n",
              "       [[0., 0., 0.],\n",
              "        [0., 0., 0.]],\n",
              "\n",
              "       [[0., 0., 0.],\n",
              "        [0., 0., 0.]],\n",
              "\n",
              "       [[0., 0., 0.],\n",
              "        [0., 0., 0.]]])"
            ]
          },
          "metadata": {
            "tags": []
          },
          "execution_count": 9
        }
      ]
    },
    {
      "cell_type": "code",
      "metadata": {
        "colab": {
          "base_uri": "https://localhost:8080/"
        },
        "id": "RbfzrDx4Kj9h",
        "outputId": "8c3e3f1d-05a8-4f1b-8034-54e1c506a560"
      },
      "source": [
        "# 9 - Create an array within a range of 0 and 100 with step 3\r\n",
        "range_array = np.arange(0, 100, 3)\r\n",
        "range_array"
      ],
      "execution_count": null,
      "outputs": [
        {
          "output_type": "execute_result",
          "data": {
            "text/plain": [
              "array([ 0,  3,  6,  9, 12, 15, 18, 21, 24, 27, 30, 33, 36, 39, 42, 45, 48,\n",
              "       51, 54, 57, 60, 63, 66, 69, 72, 75, 78, 81, 84, 87, 90, 93, 96, 99])"
            ]
          },
          "metadata": {
            "tags": []
          },
          "execution_count": 11
        }
      ]
    },
    {
      "cell_type": "code",
      "metadata": {
        "colab": {
          "base_uri": "https://localhost:8080/"
        },
        "id": "84wVA5QLKxq8",
        "outputId": "77e843b2-ecff-4155-dc8b-426e60fccf57"
      },
      "source": [
        "# 10 - Create a random array with numbers between 0 and 10 of size (7, 2)\r\n",
        "random_array = np.random.randint(10, size=(7, 2))\r\n",
        "random_array"
      ],
      "execution_count": null,
      "outputs": [
        {
          "output_type": "execute_result",
          "data": {
            "text/plain": [
              "array([[7, 6],\n",
              "       [4, 6],\n",
              "       [2, 8],\n",
              "       [9, 7],\n",
              "       [6, 7],\n",
              "       [6, 1],\n",
              "       [4, 1]])"
            ]
          },
          "metadata": {
            "tags": []
          },
          "execution_count": 12
        }
      ]
    },
    {
      "cell_type": "code",
      "metadata": {
        "colab": {
          "base_uri": "https://localhost:8080/"
        },
        "id": "QHnm4vd3K2Bm",
        "outputId": "4b5c9708-1bde-466f-8808-b1f0171a5f23"
      },
      "source": [
        "# 11 - Create a random array of floats between 0 & 1 of shape (3, 5)\r\n",
        "np.random.random((3, 5))"
      ],
      "execution_count": null,
      "outputs": [
        {
          "output_type": "execute_result",
          "data": {
            "text/plain": [
              "array([[0.69111744, 0.35221072, 0.58052198, 0.75209394, 0.13630599],\n",
              "       [0.55543682, 0.26380623, 0.92204218, 0.9655114 , 0.5682023 ],\n",
              "       [0.39803035, 0.53443301, 0.84212974, 0.41437831, 0.67835467]])"
            ]
          },
          "metadata": {
            "tags": []
          },
          "execution_count": 13
        }
      ]
    },
    {
      "cell_type": "code",
      "metadata": {
        "colab": {
          "base_uri": "https://localhost:8080/"
        },
        "id": "PEZ7JUqbK5gj",
        "outputId": "bca8cfb1-d2d8-4694-aca2-cbb744f41f9a"
      },
      "source": [
        "# 12\r\n",
        "# Set the random seed to 42\r\n",
        "np.random.seed(42)\r\n",
        "\r\n",
        "# Create a random array of numbers between 0 & 10 of size (4, 6)\r\n",
        "np.random.randint(10, size=(4, 6))"
      ],
      "execution_count": null,
      "outputs": [
        {
          "output_type": "execute_result",
          "data": {
            "text/plain": [
              "array([[6, 3, 7, 4, 6, 9],\n",
              "       [2, 6, 7, 4, 3, 7],\n",
              "       [7, 2, 5, 4, 1, 7],\n",
              "       [5, 1, 4, 0, 9, 5]])"
            ]
          },
          "metadata": {
            "tags": []
          },
          "execution_count": 14
        }
      ]
    },
    {
      "cell_type": "code",
      "metadata": {
        "colab": {
          "base_uri": "https://localhost:8080/"
        },
        "id": "7yahBAHELHx2",
        "outputId": "0aaec6e0-9754-440f-c201-106655bea78a"
      },
      "source": [
        "# 13\r\n",
        "# Create an array of random numbers between 1 & 10 of size (3, 7)\r\n",
        "# and save it to a variable\r\n",
        "array = np.random.randint(10, size=(3, 7))\r\n",
        "\r\n",
        "# Find the unique numbers in the array you just created\r\n",
        "np.unique(array)"
      ],
      "execution_count": null,
      "outputs": [
        {
          "output_type": "execute_result",
          "data": {
            "text/plain": [
              "array([0, 1, 2, 3, 4, 6, 8, 9])"
            ]
          },
          "metadata": {
            "tags": []
          },
          "execution_count": 15
        }
      ]
    },
    {
      "cell_type": "code",
      "metadata": {
        "colab": {
          "base_uri": "https://localhost:8080/"
        },
        "id": "h1mK2e3ILLI0",
        "outputId": "1f57413c-b028-4de0-f214-f1c997059133"
      },
      "source": [
        "# 14 - Find the 0'th index of the latest array you created\r\n",
        "array[0]"
      ],
      "execution_count": null,
      "outputs": [
        {
          "output_type": "execute_result",
          "data": {
            "text/plain": [
              "array([8, 0, 9, 2, 6, 3, 8])"
            ]
          },
          "metadata": {
            "tags": []
          },
          "execution_count": 16
        }
      ]
    },
    {
      "cell_type": "code",
      "metadata": {
        "colab": {
          "base_uri": "https://localhost:8080/"
        },
        "id": "7ePkMZjKLOS8",
        "outputId": "aa96299a-0d58-49fa-edc7-e2f038769b3e"
      },
      "source": [
        "# 15 - Get the first 2 rows of latest array you created\r\n",
        "array[:2]"
      ],
      "execution_count": null,
      "outputs": [
        {
          "output_type": "execute_result",
          "data": {
            "text/plain": [
              "array([[8, 0, 9, 2, 6, 3, 8],\n",
              "       [2, 4, 2, 6, 4, 8, 6]])"
            ]
          },
          "metadata": {
            "tags": []
          },
          "execution_count": 17
        }
      ]
    },
    {
      "cell_type": "code",
      "metadata": {
        "colab": {
          "base_uri": "https://localhost:8080/"
        },
        "id": "5isy21wJLWBH",
        "outputId": "07447ae2-8617-4d5c-f46d-20ea46ebb4fd"
      },
      "source": [
        "# 16 - Get the first 2 values of the first 2 rows of the latest array\r\n",
        "array[:2, :2]"
      ],
      "execution_count": null,
      "outputs": [
        {
          "output_type": "execute_result",
          "data": {
            "text/plain": [
              "array([[8, 0],\n",
              "       [2, 4]])"
            ]
          },
          "metadata": {
            "tags": []
          },
          "execution_count": 18
        }
      ]
    },
    {
      "cell_type": "code",
      "metadata": {
        "id": "v2ZmzYNgL065"
      },
      "source": [
        "# 17\r\n",
        "# Create a random array of numbers between 0 & 10 and an array of ones\r\n",
        "# both of size (3, 5), save them both to variables\r\n",
        "a4 = np.random.randint(10, size=(3, 5))\r\n",
        "ones = np.ones((3, 5))"
      ],
      "execution_count": null,
      "outputs": []
    },
    {
      "cell_type": "code",
      "metadata": {
        "colab": {
          "base_uri": "https://localhost:8080/"
        },
        "id": "eBaPf-NsL35-",
        "outputId": "83db21e9-5096-4a4f-d627-0954e1945c9e"
      },
      "source": [
        "# 18 - Add the two arrays together\r\n",
        "a4 + ones"
      ],
      "execution_count": null,
      "outputs": [
        {
          "output_type": "execute_result",
          "data": {
            "text/plain": [
              "array([[ 4.,  6.,  2., 10.,  2.],\n",
              "       [10.,  4.,  8.,  7.,  9.],\n",
              "       [ 8.,  5.,  2.,  5.,  8.]])"
            ]
          },
          "metadata": {
            "tags": []
          },
          "execution_count": 21
        }
      ]
    },
    {
      "cell_type": "code",
      "metadata": {
        "id": "JuAjQPvZL9jY"
      },
      "source": [
        "# 19 - Create another array of ones of shape (5, 3)\r\n",
        "ones = np.ones((5, 3))"
      ],
      "execution_count": null,
      "outputs": []
    },
    {
      "cell_type": "code",
      "metadata": {
        "colab": {
          "base_uri": "https://localhost:8080/",
          "height": 180
        },
        "id": "n1CpojnlMGgv",
        "outputId": "71823b17-b105-4d1f-abf2-cfd5f7d361b2"
      },
      "source": [
        "# 20 - Try add the array of ones and the other most recent array together\r\n",
        "a4 + ones"
      ],
      "execution_count": null,
      "outputs": [
        {
          "output_type": "error",
          "ename": "ValueError",
          "evalue": "ignored",
          "traceback": [
            "\u001b[0;31m---------------------------------------------------------------------------\u001b[0m",
            "\u001b[0;31mValueError\u001b[0m                                Traceback (most recent call last)",
            "\u001b[0;32m<ipython-input-24-064d910af824>\u001b[0m in \u001b[0;36m<module>\u001b[0;34m()\u001b[0m\n\u001b[1;32m      1\u001b[0m \u001b[0;31m# 20 - Try add the array of ones and the other most recent array together\u001b[0m\u001b[0;34m\u001b[0m\u001b[0;34m\u001b[0m\u001b[0;34m\u001b[0m\u001b[0m\n\u001b[0;32m----> 2\u001b[0;31m \u001b[0ma4\u001b[0m \u001b[0;34m+\u001b[0m \u001b[0mones\u001b[0m\u001b[0;34m\u001b[0m\u001b[0;34m\u001b[0m\u001b[0m\n\u001b[0m",
            "\u001b[0;31mValueError\u001b[0m: operands could not be broadcast together with shapes (3,5) (5,3) "
          ]
        }
      ]
    },
    {
      "cell_type": "code",
      "metadata": {
        "id": "ghFzF6IxMNY-"
      },
      "source": [
        "# 21 - Create another array of ones of shape (3, 5)\r\n",
        "ones = np.ones((3, 5))"
      ],
      "execution_count": null,
      "outputs": []
    },
    {
      "cell_type": "code",
      "metadata": {
        "colab": {
          "base_uri": "https://localhost:8080/"
        },
        "id": "9i0jvbtVMULW",
        "outputId": "6866902b-626b-40c5-c38b-11fa4f5b68bc"
      },
      "source": [
        "# 22 -  Subtract the new array of ones from the other most recent array\r\n",
        "a4 - ones"
      ],
      "execution_count": null,
      "outputs": [
        {
          "output_type": "execute_result",
          "data": {
            "text/plain": [
              "array([[2., 4., 0., 8., 0.],\n",
              "       [8., 2., 6., 5., 7.],\n",
              "       [6., 3., 0., 3., 6.]])"
            ]
          },
          "metadata": {
            "tags": []
          },
          "execution_count": 26
        }
      ]
    },
    {
      "cell_type": "code",
      "metadata": {
        "colab": {
          "base_uri": "https://localhost:8080/"
        },
        "id": "NKUNYDUvMorb",
        "outputId": "7957e2ef-8d08-42ec-a33d-1caaa22942ef"
      },
      "source": [
        "# 23 - Multiply the ones array with the latest array\r\n",
        "a4 * ones"
      ],
      "execution_count": null,
      "outputs": [
        {
          "output_type": "execute_result",
          "data": {
            "text/plain": [
              "array([[3., 5., 1., 9., 1.],\n",
              "       [9., 3., 7., 6., 8.],\n",
              "       [7., 4., 1., 4., 7.]])"
            ]
          },
          "metadata": {
            "tags": []
          },
          "execution_count": 27
        }
      ]
    },
    {
      "cell_type": "code",
      "metadata": {
        "colab": {
          "base_uri": "https://localhost:8080/"
        },
        "id": "ZQ6f-dr9MsAq",
        "outputId": "097b953a-43d9-47d0-a86f-fbb10756a075"
      },
      "source": [
        "# 24 - Take the latest array to the power of 2 using '**'\r\n",
        "a4 ** 2"
      ],
      "execution_count": null,
      "outputs": [
        {
          "output_type": "execute_result",
          "data": {
            "text/plain": [
              "array([[ 9, 25,  1, 81,  1],\n",
              "       [81,  9, 49, 36, 64],\n",
              "       [49, 16,  1, 16, 49]])"
            ]
          },
          "metadata": {
            "tags": []
          },
          "execution_count": 28
        }
      ]
    },
    {
      "cell_type": "code",
      "metadata": {
        "colab": {
          "base_uri": "https://localhost:8080/"
        },
        "id": "nye_jdseMu1I",
        "outputId": "697fbb76-8211-4b60-9890-11f596dc0d45"
      },
      "source": [
        "# 25 - Do the same thing with np.square()\r\n",
        "np.square(a4)"
      ],
      "execution_count": null,
      "outputs": [
        {
          "output_type": "execute_result",
          "data": {
            "text/plain": [
              "array([[ 9, 25,  1, 81,  1],\n",
              "       [81,  9, 49, 36, 64],\n",
              "       [49, 16,  1, 16, 49]])"
            ]
          },
          "metadata": {
            "tags": []
          },
          "execution_count": 29
        }
      ]
    },
    {
      "cell_type": "code",
      "metadata": {
        "colab": {
          "base_uri": "https://localhost:8080/"
        },
        "id": "YiVssxdGMx2r",
        "outputId": "6456b1a9-ca6e-43ef-890f-166e87413b48"
      },
      "source": [
        "# 26 - Find the mean of the latest array using np.mean()\r\n",
        "np.mean(a4)"
      ],
      "execution_count": null,
      "outputs": [
        {
          "output_type": "execute_result",
          "data": {
            "text/plain": [
              "5.0"
            ]
          },
          "metadata": {
            "tags": []
          },
          "execution_count": 30
        }
      ]
    },
    {
      "cell_type": "code",
      "metadata": {
        "colab": {
          "base_uri": "https://localhost:8080/"
        },
        "id": "joh_U3E-M1mK",
        "outputId": "96f2e7d8-a4c1-4df5-f069-d335e0925431"
      },
      "source": [
        "# 27 - Find the maximum of the latest array using np.max()\r\n",
        "np.max(a4)"
      ],
      "execution_count": null,
      "outputs": [
        {
          "output_type": "execute_result",
          "data": {
            "text/plain": [
              "9"
            ]
          },
          "metadata": {
            "tags": []
          },
          "execution_count": 31
        }
      ]
    },
    {
      "cell_type": "code",
      "metadata": {
        "colab": {
          "base_uri": "https://localhost:8080/"
        },
        "id": "S2ztHJ9xNt1z",
        "outputId": "62639d9b-8b6e-4df2-9deb-0def1d2172e1"
      },
      "source": [
        "# 28 - Find the minimum of the latest array using np.min()\r\n",
        "np.min(a4)"
      ],
      "execution_count": null,
      "outputs": [
        {
          "output_type": "execute_result",
          "data": {
            "text/plain": [
              "1"
            ]
          },
          "metadata": {
            "tags": []
          },
          "execution_count": 32
        }
      ]
    },
    {
      "cell_type": "code",
      "metadata": {
        "colab": {
          "base_uri": "https://localhost:8080/"
        },
        "id": "_GG4IRAWNw5-",
        "outputId": "66fe4a14-c1d2-43e4-9cdc-f58a98c39cb1"
      },
      "source": [
        "# 29 - Find the standard deviation of the latest array\r\n",
        "np.std(a4)"
      ],
      "execution_count": null,
      "outputs": [
        {
          "output_type": "execute_result",
          "data": {
            "text/plain": [
              "2.7325202042558927"
            ]
          },
          "metadata": {
            "tags": []
          },
          "execution_count": 33
        }
      ]
    },
    {
      "cell_type": "code",
      "metadata": {
        "colab": {
          "base_uri": "https://localhost:8080/"
        },
        "id": "bcfhEnY-N0Bh",
        "outputId": "2769c250-b410-4b16-dcc8-c10c2f2b8fdd"
      },
      "source": [
        "# 30 - Find the variance of the latest array\r\n",
        "np.var(a4)"
      ],
      "execution_count": null,
      "outputs": [
        {
          "output_type": "execute_result",
          "data": {
            "text/plain": [
              "7.466666666666667"
            ]
          },
          "metadata": {
            "tags": []
          },
          "execution_count": 34
        }
      ]
    },
    {
      "cell_type": "code",
      "metadata": {
        "colab": {
          "base_uri": "https://localhost:8080/"
        },
        "id": "rIjBUaBSN2xD",
        "outputId": "bc676d43-5bc3-4644-d289-1f3ced6df04c"
      },
      "source": [
        "# 31 - Reshape the latest array to (3, 5, 1)\r\n",
        "a4.reshape(3, 5, 1)"
      ],
      "execution_count": null,
      "outputs": [
        {
          "output_type": "execute_result",
          "data": {
            "text/plain": [
              "array([[[3],\n",
              "        [5],\n",
              "        [1],\n",
              "        [9],\n",
              "        [1]],\n",
              "\n",
              "       [[9],\n",
              "        [3],\n",
              "        [7],\n",
              "        [6],\n",
              "        [8]],\n",
              "\n",
              "       [[7],\n",
              "        [4],\n",
              "        [1],\n",
              "        [4],\n",
              "        [7]]])"
            ]
          },
          "metadata": {
            "tags": []
          },
          "execution_count": 35
        }
      ]
    },
    {
      "cell_type": "code",
      "metadata": {
        "colab": {
          "base_uri": "https://localhost:8080/"
        },
        "id": "GT4tvrzDN5dp",
        "outputId": "c3884a37-79ab-4759-b3ce-a6c5d367590f"
      },
      "source": [
        "# 32 - Transpose the latest array\r\n",
        "a4.T"
      ],
      "execution_count": null,
      "outputs": [
        {
          "output_type": "execute_result",
          "data": {
            "text/plain": [
              "array([[3, 9, 7],\n",
              "       [5, 3, 4],\n",
              "       [1, 7, 1],\n",
              "       [9, 6, 4],\n",
              "       [1, 8, 7]])"
            ]
          },
          "metadata": {
            "tags": []
          },
          "execution_count": 36
        }
      ]
    },
    {
      "cell_type": "code",
      "metadata": {
        "id": "54i3HlkLN8Yb"
      },
      "source": [
        "# 33\r\n",
        "# Create two arrays of random integers between 0 to 10\r\n",
        "# one of size (3, 3) the other of size (3, 2)\r\n",
        "mat1 = np.random.randint(10, size=(3, 3))\r\n",
        "mat2 = np.random.randint(10, size=(3, 2))"
      ],
      "execution_count": null,
      "outputs": []
    },
    {
      "cell_type": "code",
      "metadata": {
        "colab": {
          "base_uri": "https://localhost:8080/"
        },
        "id": "sHlXK200OBGL",
        "outputId": "6125388d-0c7d-4fed-d084-36b6eb74e562"
      },
      "source": [
        "# 34 - Perform a dot product on the two newest arrays you created\r\n",
        "np.dot(mat1, mat2)"
      ],
      "execution_count": null,
      "outputs": [
        {
          "output_type": "execute_result",
          "data": {
            "text/plain": [
              "array([[135,  79],\n",
              "       [ 58,  12],\n",
              "       [ 70,  56]])"
            ]
          },
          "metadata": {
            "tags": []
          },
          "execution_count": 38
        }
      ]
    },
    {
      "cell_type": "code",
      "metadata": {
        "id": "tmjhKki7OFO2"
      },
      "source": [
        "# 35\r\n",
        "# Create two arrays of random integers between 0 to 10\r\n",
        "# both of size (4, 3)\r\n",
        "mat3 = np.random.randint(10, size=(4, 3))\r\n",
        "mat4 = np.random.randint(10, size=(4, 3))"
      ],
      "execution_count": null,
      "outputs": []
    },
    {
      "cell_type": "code",
      "metadata": {
        "colab": {
          "base_uri": "https://localhost:8080/",
          "height": 214
        },
        "id": "1282Ugf5OICp",
        "outputId": "eaf3a751-7763-47bd-cb79-f7c02c2dc2e8"
      },
      "source": [
        "# 36 - Perform a dot product on the two newest arrays you created\r\n",
        "np.dot(mat3, mat4)"
      ],
      "execution_count": null,
      "outputs": [
        {
          "output_type": "error",
          "ename": "ValueError",
          "evalue": "ignored",
          "traceback": [
            "\u001b[0;31m---------------------------------------------------------------------------\u001b[0m",
            "\u001b[0;31mValueError\u001b[0m                                Traceback (most recent call last)",
            "\u001b[0;32m<ipython-input-40-0ba87fc8dbee>\u001b[0m in \u001b[0;36m<module>\u001b[0;34m()\u001b[0m\n\u001b[1;32m      1\u001b[0m \u001b[0;31m# 36 - Perform a dot product on the two newest arrays you created\u001b[0m\u001b[0;34m\u001b[0m\u001b[0;34m\u001b[0m\u001b[0;34m\u001b[0m\u001b[0m\n\u001b[0;32m----> 2\u001b[0;31m \u001b[0mnp\u001b[0m\u001b[0;34m.\u001b[0m\u001b[0mdot\u001b[0m\u001b[0;34m(\u001b[0m\u001b[0mmat3\u001b[0m\u001b[0;34m,\u001b[0m \u001b[0mmat4\u001b[0m\u001b[0;34m)\u001b[0m\u001b[0;34m\u001b[0m\u001b[0;34m\u001b[0m\u001b[0m\n\u001b[0m",
            "\u001b[0;32m<__array_function__ internals>\u001b[0m in \u001b[0;36mdot\u001b[0;34m(*args, **kwargs)\u001b[0m\n",
            "\u001b[0;31mValueError\u001b[0m: shapes (4,3) and (4,3) not aligned: 3 (dim 1) != 4 (dim 0)"
          ]
        }
      ]
    },
    {
      "cell_type": "markdown",
      "metadata": {
        "id": "VzixNBlNOM4X"
      },
      "source": [
        "It doesn't work... How to fix it?"
      ]
    },
    {
      "cell_type": "code",
      "metadata": {
        "colab": {
          "base_uri": "https://localhost:8080/"
        },
        "id": "m4w9I0uxOQLS",
        "outputId": "fdea5e25-776e-4b89-e4bc-dbb19c5fdd50"
      },
      "source": [
        "# 37\r\n",
        "# Take the latest two arrays, perform a transpose on one of them and then perform \r\n",
        "# a dot product on them both\r\n",
        "np.dot(mat3.T, mat4)"
      ],
      "execution_count": null,
      "outputs": [
        {
          "output_type": "execute_result",
          "data": {
            "text/plain": [
              "array([[102,  74,  91],\n",
              "       [ 56,  28,  44],\n",
              "       [100,  58,  91]])"
            ]
          },
          "metadata": {
            "tags": []
          },
          "execution_count": 41
        }
      ]
    },
    {
      "cell_type": "markdown",
      "metadata": {
        "id": "dJuka28YOmFU"
      },
      "source": [
        "\r\n",
        "Notice how performing a transpose allows the dot product to happen.\r\n",
        "\r\n",
        "Why is this?\r\n",
        "\r\n",
        "Let's now compare arrays."
      ]
    },
    {
      "cell_type": "code",
      "metadata": {
        "id": "-DKhzf3uOw9y"
      },
      "source": [
        "# 38\r\n",
        "# Create two arrays of random integers between 0 & 10 of the same shape\r\n",
        "# and save them to variables\r\n",
        "mat5 = np.random.randint(10, size=(4, 2))\r\n",
        "mat6 = np.random.randint(10, size=(4, 2))"
      ],
      "execution_count": null,
      "outputs": []
    },
    {
      "cell_type": "code",
      "metadata": {
        "colab": {
          "base_uri": "https://localhost:8080/"
        },
        "id": "PG0bVXaCOzl0",
        "outputId": "979180f7-a1d1-4876-bfaf-a4ab8ebaa74b"
      },
      "source": [
        "# 39 - Compare the two arrays with '>'\r\n",
        "mat5 > mat6"
      ],
      "execution_count": null,
      "outputs": [
        {
          "output_type": "execute_result",
          "data": {
            "text/plain": [
              "array([[False, False],\n",
              "       [ True,  True],\n",
              "       [ True,  True],\n",
              "       [ True,  True]])"
            ]
          },
          "metadata": {
            "tags": []
          },
          "execution_count": 43
        }
      ]
    },
    {
      "cell_type": "code",
      "metadata": {
        "colab": {
          "base_uri": "https://localhost:8080/"
        },
        "id": "m58G86k_O25N",
        "outputId": "d9ef4d5d-f004-49c6-a3d0-4699ea07302d"
      },
      "source": [
        "# 40 - Compare the two arrays with '>='\r\n",
        "mat5 >= mat6"
      ],
      "execution_count": null,
      "outputs": [
        {
          "output_type": "execute_result",
          "data": {
            "text/plain": [
              "array([[False, False],\n",
              "       [ True,  True],\n",
              "       [ True,  True],\n",
              "       [ True,  True]])"
            ]
          },
          "metadata": {
            "tags": []
          },
          "execution_count": 44
        }
      ]
    },
    {
      "cell_type": "code",
      "metadata": {
        "colab": {
          "base_uri": "https://localhost:8080/"
        },
        "id": "AvbOS69BO5ZM",
        "outputId": "4f274787-ffc4-4fb4-c4a5-23514439aac3"
      },
      "source": [
        "# 41 - Find which elements of the first array are greater than 7\r\n",
        "mat5 > 7"
      ],
      "execution_count": null,
      "outputs": [
        {
          "output_type": "execute_result",
          "data": {
            "text/plain": [
              "array([[False, False],\n",
              "       [ True, False],\n",
              "       [False,  True],\n",
              "       [ True,  True]])"
            ]
          },
          "metadata": {
            "tags": []
          },
          "execution_count": 45
        }
      ]
    },
    {
      "cell_type": "code",
      "metadata": {
        "colab": {
          "base_uri": "https://localhost:8080/"
        },
        "id": "CNyAIxHgO85z",
        "outputId": "f58d924f-ec7c-4ce9-a85c-6ac2cce216b5"
      },
      "source": [
        "# 42 - Which parts of each array are equal? (try using '==')\r\n",
        "mat5 == mat6"
      ],
      "execution_count": null,
      "outputs": [
        {
          "output_type": "execute_result",
          "data": {
            "text/plain": [
              "array([[False, False],\n",
              "       [False, False],\n",
              "       [False, False],\n",
              "       [False, False]])"
            ]
          },
          "metadata": {
            "tags": []
          },
          "execution_count": 46
        }
      ]
    },
    {
      "cell_type": "code",
      "metadata": {
        "colab": {
          "base_uri": "https://localhost:8080/"
        },
        "id": "KJBuym7xPBIH",
        "outputId": "afd24a12-d4b0-4e25-eb27-092b85c22bf1"
      },
      "source": [
        "# 43 - Sort one of the arrays you just created in ascending order\r\n",
        "np.sort(mat5)"
      ],
      "execution_count": null,
      "outputs": [
        {
          "output_type": "execute_result",
          "data": {
            "text/plain": [
              "array([[0, 4],\n",
              "       [6, 9],\n",
              "       [6, 8],\n",
              "       [9, 9]])"
            ]
          },
          "metadata": {
            "tags": []
          },
          "execution_count": 47
        }
      ]
    },
    {
      "cell_type": "code",
      "metadata": {
        "colab": {
          "base_uri": "https://localhost:8080/"
        },
        "id": "Brem0mSiPEdX",
        "outputId": "a52081c6-92a8-4027-b118-a8779ae83692"
      },
      "source": [
        "# 44 - Sort the indexes of one of the arrays you just created\r\n",
        "np.argsort(mat6)"
      ],
      "execution_count": null,
      "outputs": [
        {
          "output_type": "execute_result",
          "data": {
            "text/plain": [
              "array([[0, 1],\n",
              "       [0, 1],\n",
              "       [0, 1],\n",
              "       [0, 1]])"
            ]
          },
          "metadata": {
            "tags": []
          },
          "execution_count": 48
        }
      ]
    },
    {
      "cell_type": "code",
      "metadata": {
        "colab": {
          "base_uri": "https://localhost:8080/"
        },
        "id": "HkeeoD7xPHRL",
        "outputId": "95e9218c-a8ff-4353-ff23-ee14909da025"
      },
      "source": [
        "# 45 - Find the index with the maximum value in one of the arrays you've created\r\n",
        "np.argmax(mat5)"
      ],
      "execution_count": null,
      "outputs": [
        {
          "output_type": "execute_result",
          "data": {
            "text/plain": [
              "2"
            ]
          },
          "metadata": {
            "tags": []
          },
          "execution_count": 49
        }
      ]
    },
    {
      "cell_type": "code",
      "metadata": {
        "colab": {
          "base_uri": "https://localhost:8080/"
        },
        "id": "aGRQ_I2cPJqP",
        "outputId": "7f47b4d3-3ed8-4db0-c7fc-f096b97f6a5e"
      },
      "source": [
        "# 46 - Find the index with the minimum value in one of the arrays you've created\r\n",
        "np.argmin(mat6)"
      ],
      "execution_count": null,
      "outputs": [
        {
          "output_type": "execute_result",
          "data": {
            "text/plain": [
              "2"
            ]
          },
          "metadata": {
            "tags": []
          },
          "execution_count": 50
        }
      ]
    },
    {
      "cell_type": "code",
      "metadata": {
        "colab": {
          "base_uri": "https://localhost:8080/"
        },
        "id": "BoR7Pt71PRkE",
        "outputId": "529ec5b8-7498-4775-d11d-ca0c467bf306"
      },
      "source": [
        "# 47 - Find the indexes with the maximum values down the 1st axis (axis=1)\r\n",
        "# of one of the arrays you created\r\n",
        "np.argmax(mat5, axis=1)"
      ],
      "execution_count": null,
      "outputs": [
        {
          "output_type": "execute_result",
          "data": {
            "text/plain": [
              "array([1, 0, 1, 0])"
            ]
          },
          "metadata": {
            "tags": []
          },
          "execution_count": 51
        }
      ]
    },
    {
      "cell_type": "code",
      "metadata": {
        "colab": {
          "base_uri": "https://localhost:8080/"
        },
        "id": "g8Peo6JHPUX1",
        "outputId": "3780d86b-a0ee-4b5b-b666-7d51d3cec0a6"
      },
      "source": [
        "# 48 - Find the indexes with the minimum values across the 0th axis (axis=0)\r\n",
        "# of one of the arrays you created\r\n",
        "np.argmin(mat6, axis=0)"
      ],
      "execution_count": null,
      "outputs": [
        {
          "output_type": "execute_result",
          "data": {
            "text/plain": [
              "array([1, 1])"
            ]
          },
          "metadata": {
            "tags": []
          },
          "execution_count": 52
        }
      ]
    },
    {
      "cell_type": "code",
      "metadata": {
        "colab": {
          "base_uri": "https://localhost:8080/"
        },
        "id": "mAHpvbJEPXRQ",
        "outputId": "099ea025-ff37-44dc-e116-dbb79ef84971"
      },
      "source": [
        "# 49 - Create an array of normally distributed random numbers\r\n",
        "np.random.randn(3, 5)"
      ],
      "execution_count": null,
      "outputs": [
        {
          "output_type": "execute_result",
          "data": {
            "text/plain": [
              "array([[ 0.26105527,  0.00511346, -0.23458713, -1.41537074, -0.42064532],\n",
              "       [-0.34271452, -0.80227727, -0.16128571,  0.40405086,  1.8861859 ],\n",
              "       [ 0.17457781,  0.25755039, -0.07444592, -1.91877122, -0.02651388]])"
            ]
          },
          "metadata": {
            "tags": []
          },
          "execution_count": 54
        }
      ]
    },
    {
      "cell_type": "code",
      "metadata": {
        "colab": {
          "base_uri": "https://localhost:8080/"
        },
        "id": "H9YYP0B0PZnV",
        "outputId": "fab94cfc-de5e-45e3-c113-6d3fbf3946ae"
      },
      "source": [
        "# 50 - Create an array with 10 evenly spaced numbers between 1 and 100\r\n",
        "np.linspace(1, 100, 10)"
      ],
      "execution_count": null,
      "outputs": [
        {
          "output_type": "execute_result",
          "data": {
            "text/plain": [
              "array([  1.,  12.,  23.,  34.,  45.,  56.,  67.,  78.,  89., 100.])"
            ]
          },
          "metadata": {
            "tags": []
          },
          "execution_count": 55
        }
      ]
    },
    {
      "cell_type": "code",
      "metadata": {
        "id": "WRzI2aSxPdgb"
      },
      "source": [
        ""
      ],
      "execution_count": null,
      "outputs": []
    }
  ]
}